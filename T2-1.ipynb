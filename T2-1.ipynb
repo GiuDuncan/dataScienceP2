{
 "cells": [
  {
   "cell_type": "markdown",
   "metadata": {
    "collapsed": true
   },
   "source": [
    "# T2.1 - MODELOS DE REGRESSÃO LINEAR"
   ]
  },
  {
   "cell_type": "markdown",
   "metadata": {
    "collapsed": true
   },
   "source": [
    "## Integrantes:\n",
    "\n",
    "* Giulia Duncan Coutinho - 1410398\n",
    "* Matheus Falcão - 1410962\n",
    "* Igor Vieira - 1410492"
   ]
  },
  {
   "cell_type": "markdown",
   "metadata": {
    "collapsed": true
   },
   "source": [
    "Utilizando o dataset1.csv em anexo, criem alguns modelos de regressão linear (variando as features) para tentar prever a variável target. Avaliem cada modelo individualmente e, ao final, façam uma análise comparativa dos modelos, discutam os resultados e escolham e justifiquem qual foi o melhor modelo obtido."
   ]
  },
  {
   "cell_type": "markdown",
   "metadata": {},
   "source": [
    "## SETUP"
   ]
  },
  {
   "cell_type": "code",
   "execution_count": 1,
   "metadata": {},
   "outputs": [],
   "source": [
    "from IPython.display import display, Markdown, Latex\n",
    "import matplotlib\n",
    "import matplotlib.pyplot as plt\n",
    "import pandas as pd\n",
    "import numpy\n",
    "import operator\n",
    "from sklearn.linear_model import LinearRegression\n",
    "import numpy as np\n",
    "from sklearn.model_selection import train_test_split\n",
    "import random"
   ]
  },
  {
   "cell_type": "markdown",
   "metadata": {},
   "source": [
    "# Seed"
   ]
  },
  {
   "cell_type": "code",
   "execution_count": 2,
   "metadata": {},
   "outputs": [],
   "source": [
    "seed = 1289302\n",
    "random.seed(seed)"
   ]
  },
  {
   "cell_type": "markdown",
   "metadata": {},
   "source": [
    "## Dataset"
   ]
  },
  {
   "cell_type": "code",
   "execution_count": 3,
   "metadata": {},
   "outputs": [],
   "source": [
    "dataset1 = pd.read_csv('dataset1.csv')"
   ]
  },
  {
   "cell_type": "code",
   "execution_count": 4,
   "metadata": {
    "scrolled": false
   },
   "outputs": [
    {
     "data": {
      "text/html": [
       "<div>\n",
       "<style scoped>\n",
       "    .dataframe tbody tr th:only-of-type {\n",
       "        vertical-align: middle;\n",
       "    }\n",
       "\n",
       "    .dataframe tbody tr th {\n",
       "        vertical-align: top;\n",
       "    }\n",
       "\n",
       "    .dataframe thead th {\n",
       "        text-align: right;\n",
       "    }\n",
       "</style>\n",
       "<table border=\"1\" class=\"dataframe\">\n",
       "  <thead>\n",
       "    <tr style=\"text-align: right;\">\n",
       "      <th></th>\n",
       "      <th>V1</th>\n",
       "      <th>V2</th>\n",
       "      <th>V3</th>\n",
       "      <th>V4</th>\n",
       "      <th>V5</th>\n",
       "      <th>V6</th>\n",
       "      <th>V7</th>\n",
       "      <th>V8</th>\n",
       "      <th>V9</th>\n",
       "      <th>V10</th>\n",
       "      <th>V11</th>\n",
       "      <th>V12</th>\n",
       "      <th>V13</th>\n",
       "      <th>target</th>\n",
       "    </tr>\n",
       "  </thead>\n",
       "  <tbody>\n",
       "    <tr>\n",
       "      <th>0</th>\n",
       "      <td>18.0</td>\n",
       "      <td>0</td>\n",
       "      <td>6.575</td>\n",
       "      <td>4.0900</td>\n",
       "      <td>296</td>\n",
       "      <td>396.90</td>\n",
       "      <td>0.00632</td>\n",
       "      <td>2.31</td>\n",
       "      <td>0.538</td>\n",
       "      <td>65.2</td>\n",
       "      <td>1</td>\n",
       "      <td>15.3</td>\n",
       "      <td>4.98</td>\n",
       "      <td>24.0</td>\n",
       "    </tr>\n",
       "    <tr>\n",
       "      <th>1</th>\n",
       "      <td>0.0</td>\n",
       "      <td>0</td>\n",
       "      <td>6.421</td>\n",
       "      <td>4.9671</td>\n",
       "      <td>242</td>\n",
       "      <td>396.90</td>\n",
       "      <td>0.02731</td>\n",
       "      <td>7.07</td>\n",
       "      <td>0.469</td>\n",
       "      <td>78.9</td>\n",
       "      <td>2</td>\n",
       "      <td>17.8</td>\n",
       "      <td>9.14</td>\n",
       "      <td>21.6</td>\n",
       "    </tr>\n",
       "    <tr>\n",
       "      <th>2</th>\n",
       "      <td>0.0</td>\n",
       "      <td>0</td>\n",
       "      <td>7.185</td>\n",
       "      <td>4.9671</td>\n",
       "      <td>242</td>\n",
       "      <td>392.83</td>\n",
       "      <td>0.02729</td>\n",
       "      <td>7.07</td>\n",
       "      <td>0.469</td>\n",
       "      <td>61.1</td>\n",
       "      <td>2</td>\n",
       "      <td>17.8</td>\n",
       "      <td>4.03</td>\n",
       "      <td>34.7</td>\n",
       "    </tr>\n",
       "    <tr>\n",
       "      <th>3</th>\n",
       "      <td>0.0</td>\n",
       "      <td>0</td>\n",
       "      <td>6.998</td>\n",
       "      <td>6.0622</td>\n",
       "      <td>222</td>\n",
       "      <td>394.63</td>\n",
       "      <td>0.03237</td>\n",
       "      <td>2.18</td>\n",
       "      <td>0.458</td>\n",
       "      <td>45.8</td>\n",
       "      <td>3</td>\n",
       "      <td>18.7</td>\n",
       "      <td>2.94</td>\n",
       "      <td>33.4</td>\n",
       "    </tr>\n",
       "    <tr>\n",
       "      <th>4</th>\n",
       "      <td>0.0</td>\n",
       "      <td>0</td>\n",
       "      <td>7.147</td>\n",
       "      <td>6.0622</td>\n",
       "      <td>222</td>\n",
       "      <td>396.90</td>\n",
       "      <td>0.06905</td>\n",
       "      <td>2.18</td>\n",
       "      <td>0.458</td>\n",
       "      <td>54.2</td>\n",
       "      <td>3</td>\n",
       "      <td>18.7</td>\n",
       "      <td>5.33</td>\n",
       "      <td>36.2</td>\n",
       "    </tr>\n",
       "    <tr>\n",
       "      <th>5</th>\n",
       "      <td>0.0</td>\n",
       "      <td>0</td>\n",
       "      <td>6.430</td>\n",
       "      <td>6.0622</td>\n",
       "      <td>222</td>\n",
       "      <td>394.12</td>\n",
       "      <td>0.02985</td>\n",
       "      <td>2.18</td>\n",
       "      <td>0.458</td>\n",
       "      <td>58.7</td>\n",
       "      <td>3</td>\n",
       "      <td>18.7</td>\n",
       "      <td>5.21</td>\n",
       "      <td>28.7</td>\n",
       "    </tr>\n",
       "    <tr>\n",
       "      <th>6</th>\n",
       "      <td>12.5</td>\n",
       "      <td>0</td>\n",
       "      <td>6.012</td>\n",
       "      <td>5.5605</td>\n",
       "      <td>311</td>\n",
       "      <td>395.60</td>\n",
       "      <td>0.08829</td>\n",
       "      <td>7.87</td>\n",
       "      <td>0.524</td>\n",
       "      <td>66.6</td>\n",
       "      <td>5</td>\n",
       "      <td>15.2</td>\n",
       "      <td>12.43</td>\n",
       "      <td>22.9</td>\n",
       "    </tr>\n",
       "    <tr>\n",
       "      <th>7</th>\n",
       "      <td>12.5</td>\n",
       "      <td>0</td>\n",
       "      <td>6.172</td>\n",
       "      <td>5.9505</td>\n",
       "      <td>311</td>\n",
       "      <td>396.90</td>\n",
       "      <td>0.14455</td>\n",
       "      <td>7.87</td>\n",
       "      <td>0.524</td>\n",
       "      <td>96.1</td>\n",
       "      <td>5</td>\n",
       "      <td>15.2</td>\n",
       "      <td>19.15</td>\n",
       "      <td>27.1</td>\n",
       "    </tr>\n",
       "    <tr>\n",
       "      <th>8</th>\n",
       "      <td>12.5</td>\n",
       "      <td>0</td>\n",
       "      <td>5.631</td>\n",
       "      <td>6.0821</td>\n",
       "      <td>311</td>\n",
       "      <td>386.63</td>\n",
       "      <td>0.21124</td>\n",
       "      <td>7.87</td>\n",
       "      <td>0.524</td>\n",
       "      <td>100.0</td>\n",
       "      <td>5</td>\n",
       "      <td>15.2</td>\n",
       "      <td>29.93</td>\n",
       "      <td>16.5</td>\n",
       "    </tr>\n",
       "    <tr>\n",
       "      <th>9</th>\n",
       "      <td>12.5</td>\n",
       "      <td>0</td>\n",
       "      <td>6.004</td>\n",
       "      <td>6.5921</td>\n",
       "      <td>311</td>\n",
       "      <td>386.71</td>\n",
       "      <td>0.17004</td>\n",
       "      <td>7.87</td>\n",
       "      <td>0.524</td>\n",
       "      <td>85.9</td>\n",
       "      <td>5</td>\n",
       "      <td>15.2</td>\n",
       "      <td>17.10</td>\n",
       "      <td>18.9</td>\n",
       "    </tr>\n",
       "  </tbody>\n",
       "</table>\n",
       "</div>"
      ],
      "text/plain": [
       "     V1  V2     V3      V4   V5      V6       V7    V8     V9    V10  V11  \\\n",
       "0  18.0   0  6.575  4.0900  296  396.90  0.00632  2.31  0.538   65.2    1   \n",
       "1   0.0   0  6.421  4.9671  242  396.90  0.02731  7.07  0.469   78.9    2   \n",
       "2   0.0   0  7.185  4.9671  242  392.83  0.02729  7.07  0.469   61.1    2   \n",
       "3   0.0   0  6.998  6.0622  222  394.63  0.03237  2.18  0.458   45.8    3   \n",
       "4   0.0   0  7.147  6.0622  222  396.90  0.06905  2.18  0.458   54.2    3   \n",
       "5   0.0   0  6.430  6.0622  222  394.12  0.02985  2.18  0.458   58.7    3   \n",
       "6  12.5   0  6.012  5.5605  311  395.60  0.08829  7.87  0.524   66.6    5   \n",
       "7  12.5   0  6.172  5.9505  311  396.90  0.14455  7.87  0.524   96.1    5   \n",
       "8  12.5   0  5.631  6.0821  311  386.63  0.21124  7.87  0.524  100.0    5   \n",
       "9  12.5   0  6.004  6.5921  311  386.71  0.17004  7.87  0.524   85.9    5   \n",
       "\n",
       "    V12    V13  target  \n",
       "0  15.3   4.98    24.0  \n",
       "1  17.8   9.14    21.6  \n",
       "2  17.8   4.03    34.7  \n",
       "3  18.7   2.94    33.4  \n",
       "4  18.7   5.33    36.2  \n",
       "5  18.7   5.21    28.7  \n",
       "6  15.2  12.43    22.9  \n",
       "7  15.2  19.15    27.1  \n",
       "8  15.2  29.93    16.5  \n",
       "9  15.2  17.10    18.9  "
      ]
     },
     "execution_count": 4,
     "metadata": {},
     "output_type": "execute_result"
    }
   ],
   "source": [
    "dataset1.head(10)"
   ]
  },
  {
   "cell_type": "code",
   "execution_count": 5,
   "metadata": {
    "scrolled": false
   },
   "outputs": [
    {
     "data": {
      "text/plain": [
       "V1        float64\n",
       "V2          int64\n",
       "V3        float64\n",
       "V4        float64\n",
       "V5          int64\n",
       "V6        float64\n",
       "V7        float64\n",
       "V8        float64\n",
       "V9        float64\n",
       "V10       float64\n",
       "V11         int64\n",
       "V12       float64\n",
       "V13       float64\n",
       "target    float64\n",
       "dtype: object"
      ]
     },
     "execution_count": 5,
     "metadata": {},
     "output_type": "execute_result"
    }
   ],
   "source": [
    "dataset1.dtypes"
   ]
  },
  {
   "cell_type": "markdown",
   "metadata": {},
   "source": [
    "# Analisando dados"
   ]
  },
  {
   "cell_type": "code",
   "execution_count": 6,
   "metadata": {},
   "outputs": [],
   "source": [
    "y = dataset1['target'].values\n",
    "X = dataset1.drop('target', axis= 1)"
   ]
  },
  {
   "cell_type": "code",
   "execution_count": 7,
   "metadata": {},
   "outputs": [
    {
     "data": {
      "text/plain": [
       "count    506.000000\n",
       "mean      22.532806\n",
       "std        9.197104\n",
       "min        5.000000\n",
       "25%       17.025000\n",
       "50%       21.200000\n",
       "75%       25.000000\n",
       "max       50.000000\n",
       "Name: target, dtype: float64"
      ]
     },
     "execution_count": 7,
     "metadata": {},
     "output_type": "execute_result"
    }
   ],
   "source": [
    "dataset1['target'].describe()"
   ]
  },
  {
   "cell_type": "code",
   "execution_count": 8,
   "metadata": {},
   "outputs": [
    {
     "data": {
      "image/png": "[encoded data removed]",
      "text/plain": [
       "<Figure size 432x288 with 1 Axes>"
      ]
     },
     "metadata": {
      "needs_background": "light"
     },
     "output_type": "display_data"
    }
   ],
   "source": [
    "plt.hist(dataset1['target'])\n",
    "plt.show()"
   ]
  },
  {
   "cell_type": "code",
   "execution_count": 9,
   "metadata": {},
   "outputs": [
    {
     "data": {
      "image/png": "[encoded data removed]",
      "text/plain": [
       "<Figure size 432x288 with 1 Axes>"
      ]
     },
     "metadata": {
      "needs_background": "light"
     },
     "output_type": "display_data"
    },
    {
     "data": {
      "image/png": "[encoded data removed]",
      "text/plain": [
       "<Figure size 432x288 with 1 Axes>"
      ]
     },
     "metadata": {
      "needs_background": "light"
     },
     "output_type": "display_data"
    },
    {
     "data": {
      "image/png": "[encoded data removed]",
      "text/plain": [
       "<Figure size 432x288 with 1 Axes>"
      ]
     },
     "metadata": {
      "needs_background": "light"
     },
     "output_type": "display_data"
    },
    {
     "data": {
      "image/png": "[encoded data removed]",
      "text/plain": [
       "<Figure size 432x288 with 1 Axes>"
      ]
     },
     "metadata": {
      "needs_background": "light"
     },
     "output_type": "display_data"
    },
    {
     "data": {
      "image/png": "[encoded data removed]",
      "text/plain": [
       "<Figure size 432x288 with 1 Axes>"
      ]
     },
     "metadata": {
      "needs_background": "light"
     },
     "output_type": "display_data"
    },
    {
     "data": {
      "image/png": "[encoded data removed]",
      "text/plain": [
       "<Figure size 432x288 with 1 Axes>"
      ]
     },
     "metadata": {
      "needs_background": "light"
     },
     "output_type": "display_data"
    },
    {
     "data": {
      "image/png": "[encoded data removed]",
      "text/plain": [
       "<Figure size 432x288 with 1 Axes>"
      ]
     },
     "metadata": {
      "needs_background": "light"
     },
     "output_type": "display_data"
    },
    {
     "data": {
      "image/png": "[encoded data removed]",
      "text/plain": [
       "<Figure size 432x288 with 1 Axes>"
      ]
     },
     "metadata": {
      "needs_background": "light"
     },
     "output_type": "display_data"
    },
    {
     "data": {
      "image/png": "[encoded data removed]",
      "text/plain": [
       "<Figure size 432x288 with 1 Axes>"
      ]
     },
     "metadata": {
      "needs_background": "light"
     },
     "output_type": "display_data"
    },
    {
     "data": {
      "image/png": "[encoded data removed]",
      "text/plain": [
       "<Figure size 432x288 with 1 Axes>"
      ]
     },
     "metadata": {
      "needs_background": "light"
     },
     "output_type": "display_data"
    },
    {
     "data": {
      "image/png": "[encoded data removed]",
      "text/plain": [
       "<Figure size 432x288 with 1 Axes>"
      ]
     },
     "metadata": {
      "needs_background": "light"
     },
     "output_type": "display_data"
    },
    {
     "data": {
      "image/png": "[encoded data removed]",
      "text/plain": [
       "<Figure size 432x288 with 1 Axes>"
      ]
     },
     "metadata": {
      "needs_background": "light"
     },
     "output_type": "display_data"
    },
    {
     "data": {
      "image/png": "[encoded data removed]",
      "text/plain": [
       "<Figure size 432x288 with 1 Axes>"
      ]
     },
     "metadata": {
      "needs_background": "light"
     },
     "output_type": "display_data"
    }
   ],
   "source": [
    "for i in range(1, 14):\n",
    "    var = 'V' + str(i)\n",
    "    plt.scatter(X[var], y)\n",
    "    plt.xlabel(var)\n",
    "    plt.ylabel(\"target\")\n",
    "    plt.show()"
   ]
  },
  {
   "cell_type": "markdown",
   "metadata": {},
   "source": [
    "Os modelos mais promissores parecem: V3, V9, V10, V13 olhando de forma bem crua"
   ]
  },
  {
   "cell_type": "code",
   "execution_count": 10,
   "metadata": {},
   "outputs": [
    {
     "data": {
      "image/png": "[encoded data removed]",
      "text/plain": [
       "<Figure size 720x720 with 2 Axes>"
      ]
     },
     "metadata": {
      "needs_background": "light"
     },
     "output_type": "display_data"
    }
   ],
   "source": [
    "datasetpct = dataset1[:].pct_change()  \n",
    "corr = datasetpct.corr()  \n",
    "plt.figure(figsize=(10,10))\n",
    "plt.imshow(corr, cmap='hot', interpolation='none')\n",
    "plt.colorbar()  \n",
    "plt.xticks(range(len(corr)), corr.columns)  \n",
    "plt.yticks(range(len(corr)), corr.columns)\n",
    "plt.show()  "
   ]
  },
  {
   "cell_type": "markdown",
   "metadata": {},
   "source": [
    "Podemos ver que quanto mais perto das extremidades da escala (mais proximos de preto ou de branco) mais existe correlação entre as variáveis "
   ]
  },
  {
   "cell_type": "markdown",
   "metadata": {},
   "source": [
    "Parecia promissor o grafico de correlações porém não consegui extrair informações muito relevantes, portanto a seguir tento examinar as correlações com target"
   ]
  },
  {
   "cell_type": "code",
   "execution_count": 11,
   "metadata": {},
   "outputs": [
    {
     "data": {
      "text/plain": [
       "V1        0.002497\n",
       "V6        0.019641\n",
       "V4        0.045765\n",
       "V2        0.052716\n",
       "V7       -0.067060\n",
       "V11       0.098149\n",
       "V12      -0.108125\n",
       "V8       -0.136698\n",
       "V10      -0.140874\n",
       "V9       -0.147755\n",
       "V5       -0.185393\n",
       "V3        0.543897\n",
       "V13      -0.555005\n",
       "target    1.000000\n",
       "Name: target, dtype: float64"
      ]
     },
     "execution_count": 11,
     "metadata": {},
     "output_type": "execute_result"
    }
   ],
   "source": [
    "corrsorted = corr.copy()\n",
    "corrsorted = corrsorted.assign( sor = abs( corrsorted['target'] ) )\n",
    "corrsorted = corrsorted.sort_values(by=['sor'])\n",
    "corrsorted['target']"
   ]
  },
  {
   "cell_type": "markdown",
   "metadata": {},
   "source": [
    "V13, V3 parecem ser os que possuem maior correlação com target, enquanto V5 também possui uma correlaçao, mas bem menor comparado aos dois primeiros"
   ]
  },
  {
   "cell_type": "markdown",
   "metadata": {},
   "source": [
    "## Separando dados de treino e de teste (20% de teste)"
   ]
  },
  {
   "cell_type": "code",
   "execution_count": 12,
   "metadata": {},
   "outputs": [],
   "source": [
    "X_train, X_test, y_train, y_test = train_test_split(X, y, test_size=0.20,random_state=seed)"
   ]
  },
  {
   "cell_type": "code",
   "execution_count": 13,
   "metadata": {},
   "outputs": [
    {
     "data": {
      "text/html": [
       "<div>\n",
       "<style scoped>\n",
       "    .dataframe tbody tr th:only-of-type {\n",
       "        vertical-align: middle;\n",
       "    }\n",
       "\n",
       "    .dataframe tbody tr th {\n",
       "        vertical-align: top;\n",
       "    }\n",
       "\n",
       "    .dataframe thead th {\n",
       "        text-align: right;\n",
       "    }\n",
       "</style>\n",
       "<table border=\"1\" class=\"dataframe\">\n",
       "  <thead>\n",
       "    <tr style=\"text-align: right;\">\n",
       "      <th></th>\n",
       "      <th>V1</th>\n",
       "      <th>V2</th>\n",
       "      <th>V3</th>\n",
       "      <th>V4</th>\n",
       "      <th>V5</th>\n",
       "      <th>V6</th>\n",
       "      <th>V7</th>\n",
       "      <th>V8</th>\n",
       "      <th>V9</th>\n",
       "      <th>V10</th>\n",
       "      <th>V11</th>\n",
       "      <th>V12</th>\n",
       "      <th>V13</th>\n",
       "    </tr>\n",
       "  </thead>\n",
       "  <tbody>\n",
       "    <tr>\n",
       "      <th>413</th>\n",
       "      <td>0.0</td>\n",
       "      <td>0</td>\n",
       "      <td>5.155</td>\n",
       "      <td>1.5894</td>\n",
       "      <td>666</td>\n",
       "      <td>210.97</td>\n",
       "      <td>28.65580</td>\n",
       "      <td>18.10</td>\n",
       "      <td>0.597</td>\n",
       "      <td>100.0</td>\n",
       "      <td>24</td>\n",
       "      <td>20.2</td>\n",
       "      <td>20.08</td>\n",
       "    </tr>\n",
       "    <tr>\n",
       "      <th>163</th>\n",
       "      <td>0.0</td>\n",
       "      <td>1</td>\n",
       "      <td>8.375</td>\n",
       "      <td>2.1620</td>\n",
       "      <td>403</td>\n",
       "      <td>388.45</td>\n",
       "      <td>1.51902</td>\n",
       "      <td>19.58</td>\n",
       "      <td>0.605</td>\n",
       "      <td>93.9</td>\n",
       "      <td>5</td>\n",
       "      <td>14.7</td>\n",
       "      <td>3.32</td>\n",
       "    </tr>\n",
       "    <tr>\n",
       "      <th>420</th>\n",
       "      <td>0.0</td>\n",
       "      <td>0</td>\n",
       "      <td>6.411</td>\n",
       "      <td>1.8589</td>\n",
       "      <td>666</td>\n",
       "      <td>318.75</td>\n",
       "      <td>11.08740</td>\n",
       "      <td>18.10</td>\n",
       "      <td>0.718</td>\n",
       "      <td>100.0</td>\n",
       "      <td>24</td>\n",
       "      <td>20.2</td>\n",
       "      <td>15.02</td>\n",
       "    </tr>\n",
       "    <tr>\n",
       "      <th>450</th>\n",
       "      <td>0.0</td>\n",
       "      <td>0</td>\n",
       "      <td>6.749</td>\n",
       "      <td>2.3236</td>\n",
       "      <td>666</td>\n",
       "      <td>0.32</td>\n",
       "      <td>6.71772</td>\n",
       "      <td>18.10</td>\n",
       "      <td>0.713</td>\n",
       "      <td>92.6</td>\n",
       "      <td>24</td>\n",
       "      <td>20.2</td>\n",
       "      <td>17.44</td>\n",
       "    </tr>\n",
       "    <tr>\n",
       "      <th>177</th>\n",
       "      <td>0.0</td>\n",
       "      <td>0</td>\n",
       "      <td>6.315</td>\n",
       "      <td>3.3175</td>\n",
       "      <td>296</td>\n",
       "      <td>395.60</td>\n",
       "      <td>0.05425</td>\n",
       "      <td>4.05</td>\n",
       "      <td>0.510</td>\n",
       "      <td>73.4</td>\n",
       "      <td>5</td>\n",
       "      <td>16.6</td>\n",
       "      <td>6.29</td>\n",
       "    </tr>\n",
       "  </tbody>\n",
       "</table>\n",
       "</div>"
      ],
      "text/plain": [
       "      V1  V2     V3      V4   V5      V6        V7     V8     V9    V10  V11  \\\n",
       "413  0.0   0  5.155  1.5894  666  210.97  28.65580  18.10  0.597  100.0   24   \n",
       "163  0.0   1  8.375  2.1620  403  388.45   1.51902  19.58  0.605   93.9    5   \n",
       "420  0.0   0  6.411  1.8589  666  318.75  11.08740  18.10  0.718  100.0   24   \n",
       "450  0.0   0  6.749  2.3236  666    0.32   6.71772  18.10  0.713   92.6   24   \n",
       "177  0.0   0  6.315  3.3175  296  395.60   0.05425   4.05  0.510   73.4    5   \n",
       "\n",
       "      V12    V13  \n",
       "413  20.2  20.08  \n",
       "163  14.7   3.32  \n",
       "420  20.2  15.02  \n",
       "450  20.2  17.44  \n",
       "177  16.6   6.29  "
      ]
     },
     "execution_count": 13,
     "metadata": {},
     "output_type": "execute_result"
    }
   ],
   "source": [
    "X_train.head()"
   ]
  },
  {
   "cell_type": "code",
   "execution_count": 14,
   "metadata": {},
   "outputs": [
    {
     "data": {
      "text/html": [
       "<div>\n",
       "<style scoped>\n",
       "    .dataframe tbody tr th:only-of-type {\n",
       "        vertical-align: middle;\n",
       "    }\n",
       "\n",
       "    .dataframe tbody tr th {\n",
       "        vertical-align: top;\n",
       "    }\n",
       "\n",
       "    .dataframe thead th {\n",
       "        text-align: right;\n",
       "    }\n",
       "</style>\n",
       "<table border=\"1\" class=\"dataframe\">\n",
       "  <thead>\n",
       "    <tr style=\"text-align: right;\">\n",
       "      <th></th>\n",
       "      <th>V1</th>\n",
       "      <th>V2</th>\n",
       "      <th>V3</th>\n",
       "      <th>V4</th>\n",
       "      <th>V5</th>\n",
       "      <th>V6</th>\n",
       "      <th>V7</th>\n",
       "      <th>V8</th>\n",
       "      <th>V9</th>\n",
       "      <th>V10</th>\n",
       "      <th>V11</th>\n",
       "      <th>V12</th>\n",
       "      <th>V13</th>\n",
       "    </tr>\n",
       "  </thead>\n",
       "  <tbody>\n",
       "    <tr>\n",
       "      <th>147</th>\n",
       "      <td>0.0</td>\n",
       "      <td>0</td>\n",
       "      <td>4.926</td>\n",
       "      <td>1.4608</td>\n",
       "      <td>403</td>\n",
       "      <td>391.71</td>\n",
       "      <td>2.36862</td>\n",
       "      <td>19.58</td>\n",
       "      <td>0.8710</td>\n",
       "      <td>95.7</td>\n",
       "      <td>5</td>\n",
       "      <td>14.7</td>\n",
       "      <td>29.53</td>\n",
       "    </tr>\n",
       "    <tr>\n",
       "      <th>424</th>\n",
       "      <td>0.0</td>\n",
       "      <td>0</td>\n",
       "      <td>5.565</td>\n",
       "      <td>2.0635</td>\n",
       "      <td>666</td>\n",
       "      <td>3.65</td>\n",
       "      <td>8.79212</td>\n",
       "      <td>18.10</td>\n",
       "      <td>0.5840</td>\n",
       "      <td>70.6</td>\n",
       "      <td>24</td>\n",
       "      <td>20.2</td>\n",
       "      <td>17.16</td>\n",
       "    </tr>\n",
       "    <tr>\n",
       "      <th>93</th>\n",
       "      <td>28.0</td>\n",
       "      <td>0</td>\n",
       "      <td>6.211</td>\n",
       "      <td>3.6659</td>\n",
       "      <td>270</td>\n",
       "      <td>396.33</td>\n",
       "      <td>0.02875</td>\n",
       "      <td>15.04</td>\n",
       "      <td>0.4640</td>\n",
       "      <td>28.9</td>\n",
       "      <td>4</td>\n",
       "      <td>18.2</td>\n",
       "      <td>6.21</td>\n",
       "    </tr>\n",
       "    <tr>\n",
       "      <th>332</th>\n",
       "      <td>35.0</td>\n",
       "      <td>0</td>\n",
       "      <td>6.031</td>\n",
       "      <td>6.6407</td>\n",
       "      <td>304</td>\n",
       "      <td>362.25</td>\n",
       "      <td>0.03466</td>\n",
       "      <td>6.06</td>\n",
       "      <td>0.4379</td>\n",
       "      <td>23.3</td>\n",
       "      <td>1</td>\n",
       "      <td>16.9</td>\n",
       "      <td>7.83</td>\n",
       "    </tr>\n",
       "    <tr>\n",
       "      <th>164</th>\n",
       "      <td>0.0</td>\n",
       "      <td>0</td>\n",
       "      <td>5.854</td>\n",
       "      <td>2.4220</td>\n",
       "      <td>403</td>\n",
       "      <td>395.11</td>\n",
       "      <td>2.24236</td>\n",
       "      <td>19.58</td>\n",
       "      <td>0.6050</td>\n",
       "      <td>91.8</td>\n",
       "      <td>5</td>\n",
       "      <td>14.7</td>\n",
       "      <td>11.64</td>\n",
       "    </tr>\n",
       "  </tbody>\n",
       "</table>\n",
       "</div>"
      ],
      "text/plain": [
       "       V1  V2     V3      V4   V5      V6       V7     V8      V9   V10  V11  \\\n",
       "147   0.0   0  4.926  1.4608  403  391.71  2.36862  19.58  0.8710  95.7    5   \n",
       "424   0.0   0  5.565  2.0635  666    3.65  8.79212  18.10  0.5840  70.6   24   \n",
       "93   28.0   0  6.211  3.6659  270  396.33  0.02875  15.04  0.4640  28.9    4   \n",
       "332  35.0   0  6.031  6.6407  304  362.25  0.03466   6.06  0.4379  23.3    1   \n",
       "164   0.0   0  5.854  2.4220  403  395.11  2.24236  19.58  0.6050  91.8    5   \n",
       "\n",
       "      V12    V13  \n",
       "147  14.7  29.53  \n",
       "424  20.2  17.16  \n",
       "93   18.2   6.21  \n",
       "332  16.9   7.83  \n",
       "164  14.7  11.64  "
      ]
     },
     "execution_count": 14,
     "metadata": {},
     "output_type": "execute_result"
    }
   ],
   "source": [
    "X_test.head()"
   ]
  },
  {
   "cell_type": "markdown",
   "metadata": {},
   "source": [
    "# Setando função de previsão"
   ]
  },
  {
   "cell_type": "code",
   "execution_count": 15,
   "metadata": {},
   "outputs": [],
   "source": [
    "def predict(features):\n",
    "    # Nome\n",
    "    if features == \"all\":\n",
    "        name = \"Todas\"\n",
    "    else:\n",
    "        name = \"\"\n",
    "        for feature in features:\n",
    "            name = name + \" \" + feature\n",
    "    print('Features:', name)\n",
    "    \n",
    "    # Variavel alvo\n",
    "    y_v = y_train\n",
    "    # Variavel preditora\n",
    "    if features == \"all\":\n",
    "        x_v = X_train\n",
    "    elif len(features) == 1:\n",
    "        x_v = X_train[features].values.reshape(-1, 1)\n",
    "    else:\n",
    "        x_v = pd.DataFrame()    \n",
    "        for feature in features:\n",
    "            x_v[feature] = X_train[feature]\n",
    "\n",
    "    # Modelo\n",
    "    reg = LinearRegression()\n",
    "    reg.fit(x_v, y_v)\n",
    "\n",
    "    # Score\n",
    "    score_train = reg.score(x_v, y_v)\n",
    "    print('Score (R2) encontrada nos dados de treino:', '{:6.4f}'.format(score_train))\n",
    "\n",
    "    # Coef\n",
    "    print('Coeficientes:', list(map('{:.4f}'.format,reg.coef_)))\n",
    "    \n",
    "    # erros\n",
    "    if features == \"all\":\n",
    "        x_test = X_test\n",
    "    elif len(features) == 1:\n",
    "        x_test = X_test[features].values.reshape(-1, 1)\n",
    "    else:\n",
    "        x_test = pd.DataFrame()\n",
    "        for feature in features:\n",
    "            x_test[feature] = X_test[feature]\n",
    "        \n",
    "    erro1 = np.mean((reg.predict(x_test) - y_test) ** 2)\n",
    "    print('Erro quadrático médio:', erro1)\n",
    "    \n",
    "    erro2 = np.mean(abs((reg.predict(x_test) - y_test)))\n",
    "    print('Erro absoluto médio:', erro2)\n",
    "   \n",
    "    erro3 = np.mean(abs(reg.predict(x_test) - y_test) / abs(y_test))\n",
    "    print('Erro relativo médio:', erro3)\n",
    "\n",
    "    # variância\n",
    "    score = reg.score(x_test, y_test)\n",
    "    print('Variancia:', score)\n",
    "    \n",
    "    # plot\n",
    "    fig, ax = plt.subplots()\n",
    "    ax.scatter(y_test, reg.predict(x_test), color='blue', linewidth=2, zorder=10)\n",
    "\n",
    "    lims = [\n",
    "        np.min([ax.get_xlim(), ax.get_ylim()]),  # min of both axes\n",
    "        np.max([ax.get_xlim(), ax.get_ylim()]),  # max of both axes\n",
    "    ]\n",
    "\n",
    "    ax.plot(lims, lims, 'k-', alpha=0.75, zorder=0)\n",
    "\n",
    "    plt.show()\n",
    "    \n",
    "    # comparativo\n",
    "    temp = pd.DataFrame([[name, score_train, erro3, erro2, erro1, score]], columns=['features', 'score', 'erro relativo', 'erro absoluto', 'erro quadratico', 'variancia'])\n",
    "    return temp"
   ]
  },
  {
   "cell_type": "markdown",
   "metadata": {},
   "source": [
    "# Usando todas as features"
   ]
  },
  {
   "cell_type": "code",
   "execution_count": 16,
   "metadata": {},
   "outputs": [],
   "source": [
    "comparativo = pd.DataFrame(columns=['features', 'score', 'erro relativo', 'erro absoluto', 'erro quadratico', 'variancia'])"
   ]
  },
  {
   "cell_type": "code",
   "execution_count": 17,
   "metadata": {
    "scrolled": true
   },
   "outputs": [
    {
     "name": "stdout",
     "output_type": "stream",
     "text": [
      "Features: Todas\n",
      "Score (R2) encontrada nos dados de treino: 0.7621\n",
      "Coeficientes: ['0.0423', '3.2792', '4.3493', '-1.2616', '-0.0122', '0.0085', '-0.0925', '0.0676', '-16.2273', '0.0033', '0.2739', '-0.9211', '-0.5269']\n",
      "Erro quadrático médio: 29.953665487707998\n",
      "Erro absoluto médio: 3.5757171949913484\n",
      "Erro relativo médio: 0.17032956704955377\n",
      "Variancia: 0.6427235776473187\n"
     ]
    },
    {
     "data": {
      "image/png": "[encoded data removed]",
      "text/plain": [
       "<Figure size 432x288 with 1 Axes>"
      ]
     },
     "metadata": {
      "needs_background": "light"
     },
     "output_type": "display_data"
    },
    {
     "data": {
      "text/html": [
       "<div>\n",
       "<style scoped>\n",
       "    .dataframe tbody tr th:only-of-type {\n",
       "        vertical-align: middle;\n",
       "    }\n",
       "\n",
       "    .dataframe tbody tr th {\n",
       "        vertical-align: top;\n",
       "    }\n",
       "\n",
       "    .dataframe thead th {\n",
       "        text-align: right;\n",
       "    }\n",
       "</style>\n",
       "<table border=\"1\" class=\"dataframe\">\n",
       "  <thead>\n",
       "    <tr style=\"text-align: right;\">\n",
       "      <th></th>\n",
       "      <th>features</th>\n",
       "      <th>score</th>\n",
       "      <th>erro relativo</th>\n",
       "      <th>erro absoluto</th>\n",
       "      <th>erro quadratico</th>\n",
       "      <th>variancia</th>\n",
       "    </tr>\n",
       "  </thead>\n",
       "  <tbody>\n",
       "    <tr>\n",
       "      <th>0</th>\n",
       "      <td>Todas</td>\n",
       "      <td>0.762089</td>\n",
       "      <td>0.17033</td>\n",
       "      <td>3.575717</td>\n",
       "      <td>29.953665</td>\n",
       "      <td>0.642724</td>\n",
       "    </tr>\n",
       "  </tbody>\n",
       "</table>\n",
       "</div>"
      ],
      "text/plain": [
       "  features     score  erro relativo  erro absoluto  erro quadratico  variancia\n",
       "0    Todas  0.762089        0.17033       3.575717        29.953665   0.642724"
      ]
     },
     "execution_count": 17,
     "metadata": {},
     "output_type": "execute_result"
    }
   ],
   "source": [
    "result = predict(\"all\")\n",
    "comparativo = comparativo.append(result, ignore_index=True)\n",
    "comparativo.sort_values(by=['score'])"
   ]
  },
  {
   "cell_type": "markdown",
   "metadata": {},
   "source": [
    "O score foi 0.762 e um erro relativo de 17%, parece bom mas dependendo da aplicação pode ser que seja necessário um erro menor ou um score maior.\n",
    "O grafico mostra no x a previsão com a base de teste e no y os valores reais, ou seja, quanto mais distante da linha central estiverem os valores mais discrepantes são. Esse grafico foi feito com o intuito de demonstrar de forma visual o erro da previsão."
   ]
  },
  {
   "cell_type": "markdown",
   "metadata": {},
   "source": [
    "Sobre os coeficientes: o maior coef é de V9 com 16.22, depois V3 com 4.34, seguido de V2 com 3.27 e V4 com 1.26"
   ]
  },
  {
   "cell_type": "markdown",
   "metadata": {},
   "source": [
    "# Cada feature"
   ]
  },
  {
   "cell_type": "markdown",
   "metadata": {},
   "source": [
    "Agora, vou tentar para cada feature isolada"
   ]
  },
  {
   "cell_type": "code",
   "execution_count": 18,
   "metadata": {},
   "outputs": [
    {
     "name": "stdout",
     "output_type": "stream",
     "text": [
      "Features:  V1\n",
      "Score (R2) encontrada nos dados de treino: 0.1342\n",
      "Coeficientes: ['0.1387']\n",
      "Erro quadrático médio: 74.91574761240095\n",
      "Erro absoluto médio: 6.191592243567104\n",
      "Erro relativo médio: 0.31302578528847486\n",
      "Variancia: 0.10643222293382493\n"
     ]
    },
    {
     "data": {
      "image/png": "[encoded data removed]",
      "text/plain": [
       "<Figure size 432x288 with 1 Axes>"
      ]
     },
     "metadata": {
      "needs_background": "light"
     },
     "output_type": "display_data"
    },
    {
     "name": "stdout",
     "output_type": "stream",
     "text": [
      "Features:  V2\n",
      "Score (R2) encontrada nos dados de treino: 0.0337\n",
      "Coeficientes: ['7.6046']\n",
      "Erro quadrático médio: 83.11363619298594\n",
      "Erro absoluto médio: 6.964869341992672\n",
      "Erro relativo médio: 0.36416897486398786\n",
      "Variancia: 0.008650791004592984\n"
     ]
    },
    {
     "data": {
      "image/png": "[encoded data removed]",
      "text/plain": [
       "<Figure size 432x288 with 1 Axes>"
      ]
     },
     "metadata": {
      "needs_background": "light"
     },
     "output_type": "display_data"
    },
    {
     "name": "stdout",
     "output_type": "stream",
     "text": [
      "Features:  V3\n",
      "Score (R2) encontrada nos dados de treino: 0.5251\n",
      "Coeficientes: ['9.5760']\n",
      "Erro quadrático médio: 57.96746689808141\n",
      "Erro absoluto médio: 4.698463115307387\n",
      "Erro relativo médio: 0.26244911342974886\n",
      "Variancia: 0.30858514812843585\n"
     ]
    },
    {
     "data": {
      "image/png": "[encoded data removed]",
      "text/plain": [
       "<Figure size 432x288 with 1 Axes>"
      ]
     },
     "metadata": {
      "needs_background": "light"
     },
     "output_type": "display_data"
    },
    {
     "name": "stdout",
     "output_type": "stream",
     "text": [
      "Features:  V4\n",
      "Score (R2) encontrada nos dados de treino: 0.0719\n",
      "Coeficientes: ['1.1428']\n",
      "Erro quadrático médio: 82.24388741476372\n",
      "Erro absoluto médio: 6.494732660257652\n",
      "Erro relativo médio: 0.3242987772425993\n",
      "Variancia: 0.019024837945738393\n"
     ]
    },
    {
     "data": {
      "image/png": "[encoded data removed]",
      "text/plain": [
       "<Figure size 432x288 with 1 Axes>"
      ]
     },
     "metadata": {
      "needs_background": "light"
     },
     "output_type": "display_data"
    },
    {
     "name": "stdout",
     "output_type": "stream",
     "text": [
      "Features:  V5\n",
      "Score (R2) encontrada nos dados de treino: 0.2408\n",
      "Coeficientes: ['-0.0267']\n",
      "Erro quadrático médio: 73.01468904299836\n",
      "Erro absoluto médio: 6.194580533155754\n",
      "Erro relativo médio: 0.2936590990069061\n",
      "Variancia: 0.12910735778961724\n"
     ]
    },
    {
     "data": {
      "image/png": "[encoded data removed]",
      "text/plain": [
       "<Figure size 432x288 with 1 Axes>"
      ]
     },
     "metadata": {
      "needs_background": "light"
     },
     "output_type": "display_data"
    },
    {
     "name": "stdout",
     "output_type": "stream",
     "text": [
      "Features:  V6\n",
      "Score (R2) encontrada nos dados de treino: 0.1127\n",
      "Coeficientes: ['0.0341']\n",
      "Erro quadrático médio: 75.42355752113936\n",
      "Erro absoluto médio: 6.238956647121586\n",
      "Erro relativo médio: 0.30895821416045216\n",
      "Variancia: 0.1003752511250241\n"
     ]
    },
    {
     "data": {
      "image/png": "[encoded data removed]",
      "text/plain": [
       "<Figure size 432x288 with 1 Axes>"
      ]
     },
     "metadata": {
      "needs_background": "light"
     },
     "output_type": "display_data"
    },
    {
     "name": "stdout",
     "output_type": "stream",
     "text": [
      "Features:  V7\n",
      "Score (R2) encontrada nos dados de treino: 0.1511\n",
      "Coeficientes: ['-0.3852']\n",
      "Erro quadrático médio: 71.9541135174148\n",
      "Erro absoluto médio: 6.259317080907645\n",
      "Erro relativo médio: 0.30561584019546584\n",
      "Variancia: 0.14175751673496562\n"
     ]
    },
    {
     "data": {
      "image/png": "[encoded data removed]",
      "text/plain": [
       "<Figure size 432x288 with 1 Axes>"
      ]
     },
     "metadata": {
      "needs_background": "light"
     },
     "output_type": "display_data"
    },
    {
     "name": "stdout",
     "output_type": "stream",
     "text": [
      "Features:  V8\n",
      "Score (R2) encontrada nos dados de treino: 0.2383\n",
      "Coeficientes: ['-0.6452']\n",
      "Erro quadrático médio: 65.95395320407155\n",
      "Erro absoluto médio: 5.951998541151991\n",
      "Erro relativo médio: 0.29923358291529617\n",
      "Variancia: 0.2133252456051946\n"
     ]
    },
    {
     "data": {
      "image/png": "[encoded data removed]",
      "text/plain": [
       "<Figure size 432x288 with 1 Axes>"
      ]
     },
     "metadata": {
      "needs_background": "light"
     },
     "output_type": "display_data"
    },
    {
     "name": "stdout",
     "output_type": "stream",
     "text": [
      "Features:  V9\n",
      "Score (R2) encontrada nos dados de treino: 0.1914\n",
      "Coeficientes: ['-34.9081']\n",
      "Erro quadrático médio: 71.88798361442166\n",
      "Erro absoluto médio: 6.184804109296793\n",
      "Erro relativo médio: 0.30042503008066507\n",
      "Variancia: 0.14254629015441955\n"
     ]
    },
    {
     "data": {
      "image/png": "[encoded data removed]",
      "text/plain": [
       "<Figure size 432x288 with 1 Axes>"
      ]
     },
     "metadata": {
      "needs_background": "light"
     },
     "output_type": "display_data"
    },
    {
     "name": "stdout",
     "output_type": "stream",
     "text": [
      "Features:  V10\n",
      "Score (R2) encontrada nos dados de treino: 0.1483\n",
      "Coeficientes: ['-0.1257']\n",
      "Erro quadrático médio: 74.37093104220543\n",
      "Erro absoluto médio: 6.126351384982547\n",
      "Erro relativo médio: 0.29608354197021347\n",
      "Variancia: 0.11293059673444683\n"
     ]
    },
    {
     "data": {
      "image/png": "[encoded data removed]",
      "text/plain": [
       "<Figure size 432x288 with 1 Axes>"
      ]
     },
     "metadata": {
      "needs_background": "light"
     },
     "output_type": "display_data"
    },
    {
     "name": "stdout",
     "output_type": "stream",
     "text": [
      "Features:  V11\n",
      "Score (R2) encontrada nos dados de treino: 0.1607\n",
      "Coeficientes: ['-0.4228']\n",
      "Erro quadrático médio: 77.18986578342026\n",
      "Erro absoluto médio: 6.425360413802742\n",
      "Erro relativo médio: 0.3045797418338312\n",
      "Variancia: 0.07930736889943568\n"
     ]
    },
    {
     "data": {
      "image/png": "[encoded data removed]",
      "text/plain": [
       "<Figure size 432x288 with 1 Axes>"
      ]
     },
     "metadata": {
      "needs_background": "light"
     },
     "output_type": "display_data"
    },
    {
     "name": "stdout",
     "output_type": "stream",
     "text": [
      "Features:  V12\n",
      "Score (R2) encontrada nos dados de treino: 0.2810\n",
      "Coeficientes: ['-2.2405']\n",
      "Erro quadrático médio: 70.39471823110794\n",
      "Erro absoluto médio: 6.173393135532031\n",
      "Erro relativo médio: 0.31515594573301486\n",
      "Variancia: 0.16035741627493938\n"
     ]
    },
    {
     "data": {
      "image/png": "[encoded data removed]",
      "text/plain": [
       "<Figure size 432x288 with 1 Axes>"
      ]
     },
     "metadata": {
      "needs_background": "light"
     },
     "output_type": "display_data"
    },
    {
     "name": "stdout",
     "output_type": "stream",
     "text": [
      "Features:  V13\n",
      "Score (R2) encontrada nos dados de treino: 0.5637\n",
      "Coeficientes: ['-0.9830']\n",
      "Erro quadrático médio: 45.24958394425236\n",
      "Erro absoluto médio: 4.905648690099627\n",
      "Erro relativo médio: 0.22406590169010684\n",
      "Variancia: 0.4602794281993948\n"
     ]
    },
    {
     "data": {
      "image/png": "[encoded data removed]",
      "text/plain": [
       "<Figure size 432x288 with 1 Axes>"
      ]
     },
     "metadata": {
      "needs_background": "light"
     },
     "output_type": "display_data"
    }
   ],
   "source": [
    "for i in range(1, 14):\n",
    "    # Feature\n",
    "    f = \"V\" + str(i)\n",
    "    \n",
    "    result = predict([f])\n",
    "    comparativo = comparativo.append(result, ignore_index=True)"
   ]
  },
  {
   "cell_type": "code",
   "execution_count": 19,
   "metadata": {},
   "outputs": [
    {
     "data": {
      "text/html": [
       "<div>\n",
       "<style scoped>\n",
       "    .dataframe tbody tr th:only-of-type {\n",
       "        vertical-align: middle;\n",
       "    }\n",
       "\n",
       "    .dataframe tbody tr th {\n",
       "        vertical-align: top;\n",
       "    }\n",
       "\n",
       "    .dataframe thead th {\n",
       "        text-align: right;\n",
       "    }\n",
       "</style>\n",
       "<table border=\"1\" class=\"dataframe\">\n",
       "  <thead>\n",
       "    <tr style=\"text-align: right;\">\n",
       "      <th></th>\n",
       "      <th>features</th>\n",
       "      <th>score</th>\n",
       "      <th>erro relativo</th>\n",
       "      <th>erro absoluto</th>\n",
       "      <th>erro quadratico</th>\n",
       "      <th>variancia</th>\n",
       "    </tr>\n",
       "  </thead>\n",
       "  <tbody>\n",
       "    <tr>\n",
       "      <th>2</th>\n",
       "      <td>V2</td>\n",
       "      <td>0.033733</td>\n",
       "      <td>0.364169</td>\n",
       "      <td>6.964869</td>\n",
       "      <td>83.113636</td>\n",
       "      <td>0.008651</td>\n",
       "    </tr>\n",
       "    <tr>\n",
       "      <th>4</th>\n",
       "      <td>V4</td>\n",
       "      <td>0.071928</td>\n",
       "      <td>0.324299</td>\n",
       "      <td>6.494733</td>\n",
       "      <td>82.243887</td>\n",
       "      <td>0.019025</td>\n",
       "    </tr>\n",
       "    <tr>\n",
       "      <th>6</th>\n",
       "      <td>V6</td>\n",
       "      <td>0.112677</td>\n",
       "      <td>0.308958</td>\n",
       "      <td>6.238957</td>\n",
       "      <td>75.423558</td>\n",
       "      <td>0.100375</td>\n",
       "    </tr>\n",
       "    <tr>\n",
       "      <th>1</th>\n",
       "      <td>V1</td>\n",
       "      <td>0.134206</td>\n",
       "      <td>0.313026</td>\n",
       "      <td>6.191592</td>\n",
       "      <td>74.915748</td>\n",
       "      <td>0.106432</td>\n",
       "    </tr>\n",
       "    <tr>\n",
       "      <th>10</th>\n",
       "      <td>V10</td>\n",
       "      <td>0.148274</td>\n",
       "      <td>0.296084</td>\n",
       "      <td>6.126351</td>\n",
       "      <td>74.370931</td>\n",
       "      <td>0.112931</td>\n",
       "    </tr>\n",
       "    <tr>\n",
       "      <th>7</th>\n",
       "      <td>V7</td>\n",
       "      <td>0.151131</td>\n",
       "      <td>0.305616</td>\n",
       "      <td>6.259317</td>\n",
       "      <td>71.954114</td>\n",
       "      <td>0.141758</td>\n",
       "    </tr>\n",
       "    <tr>\n",
       "      <th>11</th>\n",
       "      <td>V11</td>\n",
       "      <td>0.160729</td>\n",
       "      <td>0.304580</td>\n",
       "      <td>6.425360</td>\n",
       "      <td>77.189866</td>\n",
       "      <td>0.079307</td>\n",
       "    </tr>\n",
       "    <tr>\n",
       "      <th>9</th>\n",
       "      <td>V9</td>\n",
       "      <td>0.191412</td>\n",
       "      <td>0.300425</td>\n",
       "      <td>6.184804</td>\n",
       "      <td>71.887984</td>\n",
       "      <td>0.142546</td>\n",
       "    </tr>\n",
       "    <tr>\n",
       "      <th>8</th>\n",
       "      <td>V8</td>\n",
       "      <td>0.238282</td>\n",
       "      <td>0.299234</td>\n",
       "      <td>5.951999</td>\n",
       "      <td>65.953953</td>\n",
       "      <td>0.213325</td>\n",
       "    </tr>\n",
       "    <tr>\n",
       "      <th>5</th>\n",
       "      <td>V5</td>\n",
       "      <td>0.240768</td>\n",
       "      <td>0.293659</td>\n",
       "      <td>6.194581</td>\n",
       "      <td>73.014689</td>\n",
       "      <td>0.129107</td>\n",
       "    </tr>\n",
       "    <tr>\n",
       "      <th>12</th>\n",
       "      <td>V12</td>\n",
       "      <td>0.281026</td>\n",
       "      <td>0.315156</td>\n",
       "      <td>6.173393</td>\n",
       "      <td>70.394718</td>\n",
       "      <td>0.160357</td>\n",
       "    </tr>\n",
       "    <tr>\n",
       "      <th>3</th>\n",
       "      <td>V3</td>\n",
       "      <td>0.525085</td>\n",
       "      <td>0.262449</td>\n",
       "      <td>4.698463</td>\n",
       "      <td>57.967467</td>\n",
       "      <td>0.308585</td>\n",
       "    </tr>\n",
       "    <tr>\n",
       "      <th>13</th>\n",
       "      <td>V13</td>\n",
       "      <td>0.563667</td>\n",
       "      <td>0.224066</td>\n",
       "      <td>4.905649</td>\n",
       "      <td>45.249584</td>\n",
       "      <td>0.460279</td>\n",
       "    </tr>\n",
       "    <tr>\n",
       "      <th>0</th>\n",
       "      <td>Todas</td>\n",
       "      <td>0.762089</td>\n",
       "      <td>0.170330</td>\n",
       "      <td>3.575717</td>\n",
       "      <td>29.953665</td>\n",
       "      <td>0.642724</td>\n",
       "    </tr>\n",
       "  </tbody>\n",
       "</table>\n",
       "</div>"
      ],
      "text/plain": [
       "   features     score  erro relativo  erro absoluto  erro quadratico  \\\n",
       "2        V2  0.033733       0.364169       6.964869        83.113636   \n",
       "4        V4  0.071928       0.324299       6.494733        82.243887   \n",
       "6        V6  0.112677       0.308958       6.238957        75.423558   \n",
       "1        V1  0.134206       0.313026       6.191592        74.915748   \n",
       "10      V10  0.148274       0.296084       6.126351        74.370931   \n",
       "7        V7  0.151131       0.305616       6.259317        71.954114   \n",
       "11      V11  0.160729       0.304580       6.425360        77.189866   \n",
       "9        V9  0.191412       0.300425       6.184804        71.887984   \n",
       "8        V8  0.238282       0.299234       5.951999        65.953953   \n",
       "5        V5  0.240768       0.293659       6.194581        73.014689   \n",
       "12      V12  0.281026       0.315156       6.173393        70.394718   \n",
       "3        V3  0.525085       0.262449       4.698463        57.967467   \n",
       "13      V13  0.563667       0.224066       4.905649        45.249584   \n",
       "0     Todas  0.762089       0.170330       3.575717        29.953665   \n",
       "\n",
       "    variancia  \n",
       "2    0.008651  \n",
       "4    0.019025  \n",
       "6    0.100375  \n",
       "1    0.106432  \n",
       "10   0.112931  \n",
       "7    0.141758  \n",
       "11   0.079307  \n",
       "9    0.142546  \n",
       "8    0.213325  \n",
       "5    0.129107  \n",
       "12   0.160357  \n",
       "3    0.308585  \n",
       "13   0.460279  \n",
       "0    0.642724  "
      ]
     },
     "execution_count": 19,
     "metadata": {},
     "output_type": "execute_result"
    }
   ],
   "source": [
    "comparativo.sort_values(by=['score'])"
   ]
  },
  {
   "cell_type": "markdown",
   "metadata": {},
   "source": [
    "Os 3 melhores scores foram de V3 e V13 e V12, portanto, vamos tentar com essas 3 features"
   ]
  },
  {
   "cell_type": "markdown",
   "metadata": {},
   "source": [
    "# V3 & V13 & V12"
   ]
  },
  {
   "cell_type": "code",
   "execution_count": 20,
   "metadata": {},
   "outputs": [
    {
     "name": "stdout",
     "output_type": "stream",
     "text": [
      "Features:  V3 V12 V13\n",
      "Score (R2) encontrada nos dados de treino: 0.7108\n",
      "Coeficientes: ['5.0014', '-0.9205', '-0.5600']\n",
      "Erro quadrático médio: 38.267666032041184\n",
      "Erro absoluto médio: 3.974092043323342\n",
      "Erro relativo médio: 0.19627045801401125\n",
      "Variancia: 0.5435572044654935\n"
     ]
    },
    {
     "data": {
      "image/png": "[encoded data removed]",
      "text/plain": [
       "<Figure size 432x288 with 1 Axes>"
      ]
     },
     "metadata": {
      "needs_background": "light"
     },
     "output_type": "display_data"
    },
    {
     "data": {
      "text/html": [
       "<div>\n",
       "<style scoped>\n",
       "    .dataframe tbody tr th:only-of-type {\n",
       "        vertical-align: middle;\n",
       "    }\n",
       "\n",
       "    .dataframe tbody tr th {\n",
       "        vertical-align: top;\n",
       "    }\n",
       "\n",
       "    .dataframe thead th {\n",
       "        text-align: right;\n",
       "    }\n",
       "</style>\n",
       "<table border=\"1\" class=\"dataframe\">\n",
       "  <thead>\n",
       "    <tr style=\"text-align: right;\">\n",
       "      <th></th>\n",
       "      <th>features</th>\n",
       "      <th>score</th>\n",
       "      <th>erro relativo</th>\n",
       "      <th>erro absoluto</th>\n",
       "      <th>erro quadratico</th>\n",
       "      <th>variancia</th>\n",
       "    </tr>\n",
       "  </thead>\n",
       "  <tbody>\n",
       "    <tr>\n",
       "      <th>2</th>\n",
       "      <td>V2</td>\n",
       "      <td>0.033733</td>\n",
       "      <td>0.364169</td>\n",
       "      <td>6.964869</td>\n",
       "      <td>83.113636</td>\n",
       "      <td>0.008651</td>\n",
       "    </tr>\n",
       "    <tr>\n",
       "      <th>4</th>\n",
       "      <td>V4</td>\n",
       "      <td>0.071928</td>\n",
       "      <td>0.324299</td>\n",
       "      <td>6.494733</td>\n",
       "      <td>82.243887</td>\n",
       "      <td>0.019025</td>\n",
       "    </tr>\n",
       "    <tr>\n",
       "      <th>6</th>\n",
       "      <td>V6</td>\n",
       "      <td>0.112677</td>\n",
       "      <td>0.308958</td>\n",
       "      <td>6.238957</td>\n",
       "      <td>75.423558</td>\n",
       "      <td>0.100375</td>\n",
       "    </tr>\n",
       "    <tr>\n",
       "      <th>1</th>\n",
       "      <td>V1</td>\n",
       "      <td>0.134206</td>\n",
       "      <td>0.313026</td>\n",
       "      <td>6.191592</td>\n",
       "      <td>74.915748</td>\n",
       "      <td>0.106432</td>\n",
       "    </tr>\n",
       "    <tr>\n",
       "      <th>10</th>\n",
       "      <td>V10</td>\n",
       "      <td>0.148274</td>\n",
       "      <td>0.296084</td>\n",
       "      <td>6.126351</td>\n",
       "      <td>74.370931</td>\n",
       "      <td>0.112931</td>\n",
       "    </tr>\n",
       "    <tr>\n",
       "      <th>7</th>\n",
       "      <td>V7</td>\n",
       "      <td>0.151131</td>\n",
       "      <td>0.305616</td>\n",
       "      <td>6.259317</td>\n",
       "      <td>71.954114</td>\n",
       "      <td>0.141758</td>\n",
       "    </tr>\n",
       "    <tr>\n",
       "      <th>11</th>\n",
       "      <td>V11</td>\n",
       "      <td>0.160729</td>\n",
       "      <td>0.304580</td>\n",
       "      <td>6.425360</td>\n",
       "      <td>77.189866</td>\n",
       "      <td>0.079307</td>\n",
       "    </tr>\n",
       "    <tr>\n",
       "      <th>9</th>\n",
       "      <td>V9</td>\n",
       "      <td>0.191412</td>\n",
       "      <td>0.300425</td>\n",
       "      <td>6.184804</td>\n",
       "      <td>71.887984</td>\n",
       "      <td>0.142546</td>\n",
       "    </tr>\n",
       "    <tr>\n",
       "      <th>8</th>\n",
       "      <td>V8</td>\n",
       "      <td>0.238282</td>\n",
       "      <td>0.299234</td>\n",
       "      <td>5.951999</td>\n",
       "      <td>65.953953</td>\n",
       "      <td>0.213325</td>\n",
       "    </tr>\n",
       "    <tr>\n",
       "      <th>5</th>\n",
       "      <td>V5</td>\n",
       "      <td>0.240768</td>\n",
       "      <td>0.293659</td>\n",
       "      <td>6.194581</td>\n",
       "      <td>73.014689</td>\n",
       "      <td>0.129107</td>\n",
       "    </tr>\n",
       "    <tr>\n",
       "      <th>12</th>\n",
       "      <td>V12</td>\n",
       "      <td>0.281026</td>\n",
       "      <td>0.315156</td>\n",
       "      <td>6.173393</td>\n",
       "      <td>70.394718</td>\n",
       "      <td>0.160357</td>\n",
       "    </tr>\n",
       "    <tr>\n",
       "      <th>3</th>\n",
       "      <td>V3</td>\n",
       "      <td>0.525085</td>\n",
       "      <td>0.262449</td>\n",
       "      <td>4.698463</td>\n",
       "      <td>57.967467</td>\n",
       "      <td>0.308585</td>\n",
       "    </tr>\n",
       "    <tr>\n",
       "      <th>13</th>\n",
       "      <td>V13</td>\n",
       "      <td>0.563667</td>\n",
       "      <td>0.224066</td>\n",
       "      <td>4.905649</td>\n",
       "      <td>45.249584</td>\n",
       "      <td>0.460279</td>\n",
       "    </tr>\n",
       "    <tr>\n",
       "      <th>14</th>\n",
       "      <td>V3 V12 V13</td>\n",
       "      <td>0.710845</td>\n",
       "      <td>0.196270</td>\n",
       "      <td>3.974092</td>\n",
       "      <td>38.267666</td>\n",
       "      <td>0.543557</td>\n",
       "    </tr>\n",
       "    <tr>\n",
       "      <th>0</th>\n",
       "      <td>Todas</td>\n",
       "      <td>0.762089</td>\n",
       "      <td>0.170330</td>\n",
       "      <td>3.575717</td>\n",
       "      <td>29.953665</td>\n",
       "      <td>0.642724</td>\n",
       "    </tr>\n",
       "  </tbody>\n",
       "</table>\n",
       "</div>"
      ],
      "text/plain": [
       "       features     score  erro relativo  erro absoluto  erro quadratico  \\\n",
       "2            V2  0.033733       0.364169       6.964869        83.113636   \n",
       "4            V4  0.071928       0.324299       6.494733        82.243887   \n",
       "6            V6  0.112677       0.308958       6.238957        75.423558   \n",
       "1            V1  0.134206       0.313026       6.191592        74.915748   \n",
       "10          V10  0.148274       0.296084       6.126351        74.370931   \n",
       "7            V7  0.151131       0.305616       6.259317        71.954114   \n",
       "11          V11  0.160729       0.304580       6.425360        77.189866   \n",
       "9            V9  0.191412       0.300425       6.184804        71.887984   \n",
       "8            V8  0.238282       0.299234       5.951999        65.953953   \n",
       "5            V5  0.240768       0.293659       6.194581        73.014689   \n",
       "12          V12  0.281026       0.315156       6.173393        70.394718   \n",
       "3            V3  0.525085       0.262449       4.698463        57.967467   \n",
       "13          V13  0.563667       0.224066       4.905649        45.249584   \n",
       "14   V3 V12 V13  0.710845       0.196270       3.974092        38.267666   \n",
       "0         Todas  0.762089       0.170330       3.575717        29.953665   \n",
       "\n",
       "    variancia  \n",
       "2    0.008651  \n",
       "4    0.019025  \n",
       "6    0.100375  \n",
       "1    0.106432  \n",
       "10   0.112931  \n",
       "7    0.141758  \n",
       "11   0.079307  \n",
       "9    0.142546  \n",
       "8    0.213325  \n",
       "5    0.129107  \n",
       "12   0.160357  \n",
       "3    0.308585  \n",
       "13   0.460279  \n",
       "14   0.543557  \n",
       "0    0.642724  "
      ]
     },
     "execution_count": 20,
     "metadata": {},
     "output_type": "execute_result"
    }
   ],
   "source": [
    "result = predict(['V3', 'V12', 'V13'])\n",
    "comparativo = comparativo.append(result, ignore_index=True)\n",
    "comparativo.sort_values(by=['score'])"
   ]
  },
  {
   "cell_type": "markdown",
   "metadata": {},
   "source": [
    "Não chegou a ser tão bom quanto o com todas as features, vamos tentar acrescentar o V8 e V5"
   ]
  },
  {
   "cell_type": "markdown",
   "metadata": {},
   "source": [
    "# V3 V12 V13 V5 V8"
   ]
  },
  {
   "cell_type": "code",
   "execution_count": 21,
   "metadata": {},
   "outputs": [
    {
     "name": "stdout",
     "output_type": "stream",
     "text": [
      "Features:  V3 V12 V13 V5 V8\n",
      "Score (R2) encontrada nos dados de treino: 0.7132\n",
      "Coeficientes: ['5.0856', '-0.8776', '-0.5560', '-0.0039', '0.0805']\n",
      "Erro quadrático médio: 38.324951954765716\n",
      "Erro absoluto médio: 3.964532053098749\n",
      "Erro relativo médio: 0.19385474743515524\n",
      "Variancia: 0.5428739188245228\n"
     ]
    },
    {
     "data": {
      "image/png": "[encoded data removed]",
      "text/plain": [
       "<Figure size 432x288 with 1 Axes>"
      ]
     },
     "metadata": {
      "needs_background": "light"
     },
     "output_type": "display_data"
    },
    {
     "data": {
      "text/html": [
       "<div>\n",
       "<style scoped>\n",
       "    .dataframe tbody tr th:only-of-type {\n",
       "        vertical-align: middle;\n",
       "    }\n",
       "\n",
       "    .dataframe tbody tr th {\n",
       "        vertical-align: top;\n",
       "    }\n",
       "\n",
       "    .dataframe thead th {\n",
       "        text-align: right;\n",
       "    }\n",
       "</style>\n",
       "<table border=\"1\" class=\"dataframe\">\n",
       "  <thead>\n",
       "    <tr style=\"text-align: right;\">\n",
       "      <th></th>\n",
       "      <th>features</th>\n",
       "      <th>score</th>\n",
       "      <th>erro relativo</th>\n",
       "      <th>erro absoluto</th>\n",
       "      <th>erro quadratico</th>\n",
       "      <th>variancia</th>\n",
       "    </tr>\n",
       "  </thead>\n",
       "  <tbody>\n",
       "    <tr>\n",
       "      <th>2</th>\n",
       "      <td>V2</td>\n",
       "      <td>0.033733</td>\n",
       "      <td>0.364169</td>\n",
       "      <td>6.964869</td>\n",
       "      <td>83.113636</td>\n",
       "      <td>0.008651</td>\n",
       "    </tr>\n",
       "    <tr>\n",
       "      <th>4</th>\n",
       "      <td>V4</td>\n",
       "      <td>0.071928</td>\n",
       "      <td>0.324299</td>\n",
       "      <td>6.494733</td>\n",
       "      <td>82.243887</td>\n",
       "      <td>0.019025</td>\n",
       "    </tr>\n",
       "    <tr>\n",
       "      <th>6</th>\n",
       "      <td>V6</td>\n",
       "      <td>0.112677</td>\n",
       "      <td>0.308958</td>\n",
       "      <td>6.238957</td>\n",
       "      <td>75.423558</td>\n",
       "      <td>0.100375</td>\n",
       "    </tr>\n",
       "    <tr>\n",
       "      <th>1</th>\n",
       "      <td>V1</td>\n",
       "      <td>0.134206</td>\n",
       "      <td>0.313026</td>\n",
       "      <td>6.191592</td>\n",
       "      <td>74.915748</td>\n",
       "      <td>0.106432</td>\n",
       "    </tr>\n",
       "    <tr>\n",
       "      <th>10</th>\n",
       "      <td>V10</td>\n",
       "      <td>0.148274</td>\n",
       "      <td>0.296084</td>\n",
       "      <td>6.126351</td>\n",
       "      <td>74.370931</td>\n",
       "      <td>0.112931</td>\n",
       "    </tr>\n",
       "    <tr>\n",
       "      <th>7</th>\n",
       "      <td>V7</td>\n",
       "      <td>0.151131</td>\n",
       "      <td>0.305616</td>\n",
       "      <td>6.259317</td>\n",
       "      <td>71.954114</td>\n",
       "      <td>0.141758</td>\n",
       "    </tr>\n",
       "    <tr>\n",
       "      <th>11</th>\n",
       "      <td>V11</td>\n",
       "      <td>0.160729</td>\n",
       "      <td>0.304580</td>\n",
       "      <td>6.425360</td>\n",
       "      <td>77.189866</td>\n",
       "      <td>0.079307</td>\n",
       "    </tr>\n",
       "    <tr>\n",
       "      <th>9</th>\n",
       "      <td>V9</td>\n",
       "      <td>0.191412</td>\n",
       "      <td>0.300425</td>\n",
       "      <td>6.184804</td>\n",
       "      <td>71.887984</td>\n",
       "      <td>0.142546</td>\n",
       "    </tr>\n",
       "    <tr>\n",
       "      <th>8</th>\n",
       "      <td>V8</td>\n",
       "      <td>0.238282</td>\n",
       "      <td>0.299234</td>\n",
       "      <td>5.951999</td>\n",
       "      <td>65.953953</td>\n",
       "      <td>0.213325</td>\n",
       "    </tr>\n",
       "    <tr>\n",
       "      <th>5</th>\n",
       "      <td>V5</td>\n",
       "      <td>0.240768</td>\n",
       "      <td>0.293659</td>\n",
       "      <td>6.194581</td>\n",
       "      <td>73.014689</td>\n",
       "      <td>0.129107</td>\n",
       "    </tr>\n",
       "    <tr>\n",
       "      <th>12</th>\n",
       "      <td>V12</td>\n",
       "      <td>0.281026</td>\n",
       "      <td>0.315156</td>\n",
       "      <td>6.173393</td>\n",
       "      <td>70.394718</td>\n",
       "      <td>0.160357</td>\n",
       "    </tr>\n",
       "    <tr>\n",
       "      <th>3</th>\n",
       "      <td>V3</td>\n",
       "      <td>0.525085</td>\n",
       "      <td>0.262449</td>\n",
       "      <td>4.698463</td>\n",
       "      <td>57.967467</td>\n",
       "      <td>0.308585</td>\n",
       "    </tr>\n",
       "    <tr>\n",
       "      <th>13</th>\n",
       "      <td>V13</td>\n",
       "      <td>0.563667</td>\n",
       "      <td>0.224066</td>\n",
       "      <td>4.905649</td>\n",
       "      <td>45.249584</td>\n",
       "      <td>0.460279</td>\n",
       "    </tr>\n",
       "    <tr>\n",
       "      <th>14</th>\n",
       "      <td>V3 V12 V13</td>\n",
       "      <td>0.710845</td>\n",
       "      <td>0.196270</td>\n",
       "      <td>3.974092</td>\n",
       "      <td>38.267666</td>\n",
       "      <td>0.543557</td>\n",
       "    </tr>\n",
       "    <tr>\n",
       "      <th>15</th>\n",
       "      <td>V3 V12 V13 V5 V8</td>\n",
       "      <td>0.713237</td>\n",
       "      <td>0.193855</td>\n",
       "      <td>3.964532</td>\n",
       "      <td>38.324952</td>\n",
       "      <td>0.542874</td>\n",
       "    </tr>\n",
       "    <tr>\n",
       "      <th>0</th>\n",
       "      <td>Todas</td>\n",
       "      <td>0.762089</td>\n",
       "      <td>0.170330</td>\n",
       "      <td>3.575717</td>\n",
       "      <td>29.953665</td>\n",
       "      <td>0.642724</td>\n",
       "    </tr>\n",
       "  </tbody>\n",
       "</table>\n",
       "</div>"
      ],
      "text/plain": [
       "             features     score  erro relativo  erro absoluto  \\\n",
       "2                  V2  0.033733       0.364169       6.964869   \n",
       "4                  V4  0.071928       0.324299       6.494733   \n",
       "6                  V6  0.112677       0.308958       6.238957   \n",
       "1                  V1  0.134206       0.313026       6.191592   \n",
       "10                V10  0.148274       0.296084       6.126351   \n",
       "7                  V7  0.151131       0.305616       6.259317   \n",
       "11                V11  0.160729       0.304580       6.425360   \n",
       "9                  V9  0.191412       0.300425       6.184804   \n",
       "8                  V8  0.238282       0.299234       5.951999   \n",
       "5                  V5  0.240768       0.293659       6.194581   \n",
       "12                V12  0.281026       0.315156       6.173393   \n",
       "3                  V3  0.525085       0.262449       4.698463   \n",
       "13                V13  0.563667       0.224066       4.905649   \n",
       "14         V3 V12 V13  0.710845       0.196270       3.974092   \n",
       "15   V3 V12 V13 V5 V8  0.713237       0.193855       3.964532   \n",
       "0               Todas  0.762089       0.170330       3.575717   \n",
       "\n",
       "    erro quadratico  variancia  \n",
       "2         83.113636   0.008651  \n",
       "4         82.243887   0.019025  \n",
       "6         75.423558   0.100375  \n",
       "1         74.915748   0.106432  \n",
       "10        74.370931   0.112931  \n",
       "7         71.954114   0.141758  \n",
       "11        77.189866   0.079307  \n",
       "9         71.887984   0.142546  \n",
       "8         65.953953   0.213325  \n",
       "5         73.014689   0.129107  \n",
       "12        70.394718   0.160357  \n",
       "3         57.967467   0.308585  \n",
       "13        45.249584   0.460279  \n",
       "14        38.267666   0.543557  \n",
       "15        38.324952   0.542874  \n",
       "0         29.953665   0.642724  "
      ]
     },
     "execution_count": 21,
     "metadata": {},
     "output_type": "execute_result"
    }
   ],
   "source": [
    "result = predict(['V3', 'V12', 'V13', 'V5', 'V8'])\n",
    "comparativo = comparativo.append(result, ignore_index=True)\n",
    "comparativo.sort_values(by=['score'])"
   ]
  },
  {
   "cell_type": "markdown",
   "metadata": {},
   "source": [
    "Ainda não tão bom quanto com todas, mas um pouco melhor"
   ]
  },
  {
   "cell_type": "markdown",
   "metadata": {},
   "source": [
    "# Todas menos V2"
   ]
  },
  {
   "cell_type": "markdown",
   "metadata": {},
   "source": [
    "Vamos ver como fica o resultado retirando a feature com pior score (V2)"
   ]
  },
  {
   "cell_type": "code",
   "execution_count": 22,
   "metadata": {},
   "outputs": [
    {
     "name": "stdout",
     "output_type": "stream",
     "text": [
      "Features:  V1 V3 V4 V5 V6 V7 V8 V9 V10 V11 V12 V13\n",
      "Score (R2) encontrada nos dados de treino: 0.7562\n",
      "Coeficientes: ['0.0425', '4.4400', '-1.2676', '-0.0133', '0.0090', '-0.0972', '0.0840', '-15.5984', '0.0049', '0.2949', '-0.9549', '-0.5359']\n",
      "Erro quadrático médio: 30.05956025181038\n",
      "Erro absoluto médio: 3.506467035653029\n",
      "Erro relativo médio: 0.16753624991876073\n",
      "Variancia: 0.6414605034342509\n"
     ]
    },
    {
     "data": {
      "image/png": "[encoded data removed]",
      "text/plain": [
       "<Figure size 432x288 with 1 Axes>"
      ]
     },
     "metadata": {
      "needs_background": "light"
     },
     "output_type": "display_data"
    },
    {
     "data": {
      "text/html": [
       "<div>\n",
       "<style scoped>\n",
       "    .dataframe tbody tr th:only-of-type {\n",
       "        vertical-align: middle;\n",
       "    }\n",
       "\n",
       "    .dataframe tbody tr th {\n",
       "        vertical-align: top;\n",
       "    }\n",
       "\n",
       "    .dataframe thead th {\n",
       "        text-align: right;\n",
       "    }\n",
       "</style>\n",
       "<table border=\"1\" class=\"dataframe\">\n",
       "  <thead>\n",
       "    <tr style=\"text-align: right;\">\n",
       "      <th></th>\n",
       "      <th>features</th>\n",
       "      <th>score</th>\n",
       "      <th>erro relativo</th>\n",
       "      <th>erro absoluto</th>\n",
       "      <th>erro quadratico</th>\n",
       "      <th>variancia</th>\n",
       "    </tr>\n",
       "  </thead>\n",
       "  <tbody>\n",
       "    <tr>\n",
       "      <th>2</th>\n",
       "      <td>V2</td>\n",
       "      <td>0.033733</td>\n",
       "      <td>0.364169</td>\n",
       "      <td>6.964869</td>\n",
       "      <td>83.113636</td>\n",
       "      <td>0.008651</td>\n",
       "    </tr>\n",
       "    <tr>\n",
       "      <th>4</th>\n",
       "      <td>V4</td>\n",
       "      <td>0.071928</td>\n",
       "      <td>0.324299</td>\n",
       "      <td>6.494733</td>\n",
       "      <td>82.243887</td>\n",
       "      <td>0.019025</td>\n",
       "    </tr>\n",
       "    <tr>\n",
       "      <th>6</th>\n",
       "      <td>V6</td>\n",
       "      <td>0.112677</td>\n",
       "      <td>0.308958</td>\n",
       "      <td>6.238957</td>\n",
       "      <td>75.423558</td>\n",
       "      <td>0.100375</td>\n",
       "    </tr>\n",
       "    <tr>\n",
       "      <th>1</th>\n",
       "      <td>V1</td>\n",
       "      <td>0.134206</td>\n",
       "      <td>0.313026</td>\n",
       "      <td>6.191592</td>\n",
       "      <td>74.915748</td>\n",
       "      <td>0.106432</td>\n",
       "    </tr>\n",
       "    <tr>\n",
       "      <th>10</th>\n",
       "      <td>V10</td>\n",
       "      <td>0.148274</td>\n",
       "      <td>0.296084</td>\n",
       "      <td>6.126351</td>\n",
       "      <td>74.370931</td>\n",
       "      <td>0.112931</td>\n",
       "    </tr>\n",
       "    <tr>\n",
       "      <th>7</th>\n",
       "      <td>V7</td>\n",
       "      <td>0.151131</td>\n",
       "      <td>0.305616</td>\n",
       "      <td>6.259317</td>\n",
       "      <td>71.954114</td>\n",
       "      <td>0.141758</td>\n",
       "    </tr>\n",
       "    <tr>\n",
       "      <th>11</th>\n",
       "      <td>V11</td>\n",
       "      <td>0.160729</td>\n",
       "      <td>0.304580</td>\n",
       "      <td>6.425360</td>\n",
       "      <td>77.189866</td>\n",
       "      <td>0.079307</td>\n",
       "    </tr>\n",
       "    <tr>\n",
       "      <th>9</th>\n",
       "      <td>V9</td>\n",
       "      <td>0.191412</td>\n",
       "      <td>0.300425</td>\n",
       "      <td>6.184804</td>\n",
       "      <td>71.887984</td>\n",
       "      <td>0.142546</td>\n",
       "    </tr>\n",
       "    <tr>\n",
       "      <th>8</th>\n",
       "      <td>V8</td>\n",
       "      <td>0.238282</td>\n",
       "      <td>0.299234</td>\n",
       "      <td>5.951999</td>\n",
       "      <td>65.953953</td>\n",
       "      <td>0.213325</td>\n",
       "    </tr>\n",
       "    <tr>\n",
       "      <th>5</th>\n",
       "      <td>V5</td>\n",
       "      <td>0.240768</td>\n",
       "      <td>0.293659</td>\n",
       "      <td>6.194581</td>\n",
       "      <td>73.014689</td>\n",
       "      <td>0.129107</td>\n",
       "    </tr>\n",
       "    <tr>\n",
       "      <th>12</th>\n",
       "      <td>V12</td>\n",
       "      <td>0.281026</td>\n",
       "      <td>0.315156</td>\n",
       "      <td>6.173393</td>\n",
       "      <td>70.394718</td>\n",
       "      <td>0.160357</td>\n",
       "    </tr>\n",
       "    <tr>\n",
       "      <th>3</th>\n",
       "      <td>V3</td>\n",
       "      <td>0.525085</td>\n",
       "      <td>0.262449</td>\n",
       "      <td>4.698463</td>\n",
       "      <td>57.967467</td>\n",
       "      <td>0.308585</td>\n",
       "    </tr>\n",
       "    <tr>\n",
       "      <th>13</th>\n",
       "      <td>V13</td>\n",
       "      <td>0.563667</td>\n",
       "      <td>0.224066</td>\n",
       "      <td>4.905649</td>\n",
       "      <td>45.249584</td>\n",
       "      <td>0.460279</td>\n",
       "    </tr>\n",
       "    <tr>\n",
       "      <th>14</th>\n",
       "      <td>V3 V12 V13</td>\n",
       "      <td>0.710845</td>\n",
       "      <td>0.196270</td>\n",
       "      <td>3.974092</td>\n",
       "      <td>38.267666</td>\n",
       "      <td>0.543557</td>\n",
       "    </tr>\n",
       "    <tr>\n",
       "      <th>15</th>\n",
       "      <td>V3 V12 V13 V5 V8</td>\n",
       "      <td>0.713237</td>\n",
       "      <td>0.193855</td>\n",
       "      <td>3.964532</td>\n",
       "      <td>38.324952</td>\n",
       "      <td>0.542874</td>\n",
       "    </tr>\n",
       "    <tr>\n",
       "      <th>16</th>\n",
       "      <td>V1 V3 V4 V5 V6 V7 V8 V9 V10 V11 V12 V13</td>\n",
       "      <td>0.756220</td>\n",
       "      <td>0.167536</td>\n",
       "      <td>3.506467</td>\n",
       "      <td>30.059560</td>\n",
       "      <td>0.641461</td>\n",
       "    </tr>\n",
       "    <tr>\n",
       "      <th>0</th>\n",
       "      <td>Todas</td>\n",
       "      <td>0.762089</td>\n",
       "      <td>0.170330</td>\n",
       "      <td>3.575717</td>\n",
       "      <td>29.953665</td>\n",
       "      <td>0.642724</td>\n",
       "    </tr>\n",
       "  </tbody>\n",
       "</table>\n",
       "</div>"
      ],
      "text/plain": [
       "                                    features     score  erro relativo  \\\n",
       "2                                         V2  0.033733       0.364169   \n",
       "4                                         V4  0.071928       0.324299   \n",
       "6                                         V6  0.112677       0.308958   \n",
       "1                                         V1  0.134206       0.313026   \n",
       "10                                       V10  0.148274       0.296084   \n",
       "7                                         V7  0.151131       0.305616   \n",
       "11                                       V11  0.160729       0.304580   \n",
       "9                                         V9  0.191412       0.300425   \n",
       "8                                         V8  0.238282       0.299234   \n",
       "5                                         V5  0.240768       0.293659   \n",
       "12                                       V12  0.281026       0.315156   \n",
       "3                                         V3  0.525085       0.262449   \n",
       "13                                       V13  0.563667       0.224066   \n",
       "14                                V3 V12 V13  0.710845       0.196270   \n",
       "15                          V3 V12 V13 V5 V8  0.713237       0.193855   \n",
       "16   V1 V3 V4 V5 V6 V7 V8 V9 V10 V11 V12 V13  0.756220       0.167536   \n",
       "0                                      Todas  0.762089       0.170330   \n",
       "\n",
       "    erro absoluto  erro quadratico  variancia  \n",
       "2        6.964869        83.113636   0.008651  \n",
       "4        6.494733        82.243887   0.019025  \n",
       "6        6.238957        75.423558   0.100375  \n",
       "1        6.191592        74.915748   0.106432  \n",
       "10       6.126351        74.370931   0.112931  \n",
       "7        6.259317        71.954114   0.141758  \n",
       "11       6.425360        77.189866   0.079307  \n",
       "9        6.184804        71.887984   0.142546  \n",
       "8        5.951999        65.953953   0.213325  \n",
       "5        6.194581        73.014689   0.129107  \n",
       "12       6.173393        70.394718   0.160357  \n",
       "3        4.698463        57.967467   0.308585  \n",
       "13       4.905649        45.249584   0.460279  \n",
       "14       3.974092        38.267666   0.543557  \n",
       "15       3.964532        38.324952   0.542874  \n",
       "16       3.506467        30.059560   0.641461  \n",
       "0        3.575717        29.953665   0.642724  "
      ]
     },
     "execution_count": 22,
     "metadata": {},
     "output_type": "execute_result"
    }
   ],
   "source": [
    "result = predict(['V1', 'V3', 'V4', 'V5', 'V6', 'V7', 'V8', 'V9', 'V10', 'V11', 'V12', 'V13'])\n",
    "comparativo = comparativo.append(result, ignore_index=True)\n",
    "comparativo.sort_values(by=['score'])"
   ]
  },
  {
   "cell_type": "markdown",
   "metadata": {},
   "source": [
    "Ainda não temos um score que supere o com todas as features porém, o erro relativo diminiu ao retirar o V2"
   ]
  },
  {
   "cell_type": "markdown",
   "metadata": {},
   "source": [
    "# V2 V3 V4 V9"
   ]
  },
  {
   "cell_type": "markdown",
   "metadata": {},
   "source": [
    "Agora, a partir dos melhores resultados dos coeficientes da regressão com todas as features, decidimos tentar com o V2 V3 V4 e V9"
   ]
  },
  {
   "cell_type": "code",
   "execution_count": 23,
   "metadata": {},
   "outputs": [
    {
     "name": "stdout",
     "output_type": "stream",
     "text": [
      "Features:  V2 V3 V4 V9\n",
      "Score (R2) encontrada nos dados de treino: 0.6013\n",
      "Coeficientes: ['5.5116', '8.2814', '-0.5487', '-28.6829']\n",
      "Erro quadrático médio: 49.84720799912615\n",
      "Erro absoluto médio: 4.395587372136509\n",
      "Erro relativo médio: 0.23510043427421567\n",
      "Variancia: 0.40544064146319336\n"
     ]
    },
    {
     "data": {
      "image/png": "[encoded data removed]",
      "text/plain": [
       "<Figure size 432x288 with 1 Axes>"
      ]
     },
     "metadata": {
      "needs_background": "light"
     },
     "output_type": "display_data"
    },
    {
     "data": {
      "text/html": [
       "<div>\n",
       "<style scoped>\n",
       "    .dataframe tbody tr th:only-of-type {\n",
       "        vertical-align: middle;\n",
       "    }\n",
       "\n",
       "    .dataframe tbody tr th {\n",
       "        vertical-align: top;\n",
       "    }\n",
       "\n",
       "    .dataframe thead th {\n",
       "        text-align: right;\n",
       "    }\n",
       "</style>\n",
       "<table border=\"1\" class=\"dataframe\">\n",
       "  <thead>\n",
       "    <tr style=\"text-align: right;\">\n",
       "      <th></th>\n",
       "      <th>features</th>\n",
       "      <th>score</th>\n",
       "      <th>erro relativo</th>\n",
       "      <th>erro absoluto</th>\n",
       "      <th>erro quadratico</th>\n",
       "      <th>variancia</th>\n",
       "    </tr>\n",
       "  </thead>\n",
       "  <tbody>\n",
       "    <tr>\n",
       "      <th>2</th>\n",
       "      <td>V2</td>\n",
       "      <td>0.033733</td>\n",
       "      <td>0.364169</td>\n",
       "      <td>6.964869</td>\n",
       "      <td>83.113636</td>\n",
       "      <td>0.008651</td>\n",
       "    </tr>\n",
       "    <tr>\n",
       "      <th>4</th>\n",
       "      <td>V4</td>\n",
       "      <td>0.071928</td>\n",
       "      <td>0.324299</td>\n",
       "      <td>6.494733</td>\n",
       "      <td>82.243887</td>\n",
       "      <td>0.019025</td>\n",
       "    </tr>\n",
       "    <tr>\n",
       "      <th>6</th>\n",
       "      <td>V6</td>\n",
       "      <td>0.112677</td>\n",
       "      <td>0.308958</td>\n",
       "      <td>6.238957</td>\n",
       "      <td>75.423558</td>\n",
       "      <td>0.100375</td>\n",
       "    </tr>\n",
       "    <tr>\n",
       "      <th>1</th>\n",
       "      <td>V1</td>\n",
       "      <td>0.134206</td>\n",
       "      <td>0.313026</td>\n",
       "      <td>6.191592</td>\n",
       "      <td>74.915748</td>\n",
       "      <td>0.106432</td>\n",
       "    </tr>\n",
       "    <tr>\n",
       "      <th>10</th>\n",
       "      <td>V10</td>\n",
       "      <td>0.148274</td>\n",
       "      <td>0.296084</td>\n",
       "      <td>6.126351</td>\n",
       "      <td>74.370931</td>\n",
       "      <td>0.112931</td>\n",
       "    </tr>\n",
       "    <tr>\n",
       "      <th>7</th>\n",
       "      <td>V7</td>\n",
       "      <td>0.151131</td>\n",
       "      <td>0.305616</td>\n",
       "      <td>6.259317</td>\n",
       "      <td>71.954114</td>\n",
       "      <td>0.141758</td>\n",
       "    </tr>\n",
       "    <tr>\n",
       "      <th>11</th>\n",
       "      <td>V11</td>\n",
       "      <td>0.160729</td>\n",
       "      <td>0.304580</td>\n",
       "      <td>6.425360</td>\n",
       "      <td>77.189866</td>\n",
       "      <td>0.079307</td>\n",
       "    </tr>\n",
       "    <tr>\n",
       "      <th>9</th>\n",
       "      <td>V9</td>\n",
       "      <td>0.191412</td>\n",
       "      <td>0.300425</td>\n",
       "      <td>6.184804</td>\n",
       "      <td>71.887984</td>\n",
       "      <td>0.142546</td>\n",
       "    </tr>\n",
       "    <tr>\n",
       "      <th>8</th>\n",
       "      <td>V8</td>\n",
       "      <td>0.238282</td>\n",
       "      <td>0.299234</td>\n",
       "      <td>5.951999</td>\n",
       "      <td>65.953953</td>\n",
       "      <td>0.213325</td>\n",
       "    </tr>\n",
       "    <tr>\n",
       "      <th>5</th>\n",
       "      <td>V5</td>\n",
       "      <td>0.240768</td>\n",
       "      <td>0.293659</td>\n",
       "      <td>6.194581</td>\n",
       "      <td>73.014689</td>\n",
       "      <td>0.129107</td>\n",
       "    </tr>\n",
       "    <tr>\n",
       "      <th>12</th>\n",
       "      <td>V12</td>\n",
       "      <td>0.281026</td>\n",
       "      <td>0.315156</td>\n",
       "      <td>6.173393</td>\n",
       "      <td>70.394718</td>\n",
       "      <td>0.160357</td>\n",
       "    </tr>\n",
       "    <tr>\n",
       "      <th>3</th>\n",
       "      <td>V3</td>\n",
       "      <td>0.525085</td>\n",
       "      <td>0.262449</td>\n",
       "      <td>4.698463</td>\n",
       "      <td>57.967467</td>\n",
       "      <td>0.308585</td>\n",
       "    </tr>\n",
       "    <tr>\n",
       "      <th>13</th>\n",
       "      <td>V13</td>\n",
       "      <td>0.563667</td>\n",
       "      <td>0.224066</td>\n",
       "      <td>4.905649</td>\n",
       "      <td>45.249584</td>\n",
       "      <td>0.460279</td>\n",
       "    </tr>\n",
       "    <tr>\n",
       "      <th>17</th>\n",
       "      <td>V2 V3 V4 V9</td>\n",
       "      <td>0.601285</td>\n",
       "      <td>0.235100</td>\n",
       "      <td>4.395587</td>\n",
       "      <td>49.847208</td>\n",
       "      <td>0.405441</td>\n",
       "    </tr>\n",
       "    <tr>\n",
       "      <th>14</th>\n",
       "      <td>V3 V12 V13</td>\n",
       "      <td>0.710845</td>\n",
       "      <td>0.196270</td>\n",
       "      <td>3.974092</td>\n",
       "      <td>38.267666</td>\n",
       "      <td>0.543557</td>\n",
       "    </tr>\n",
       "    <tr>\n",
       "      <th>15</th>\n",
       "      <td>V3 V12 V13 V5 V8</td>\n",
       "      <td>0.713237</td>\n",
       "      <td>0.193855</td>\n",
       "      <td>3.964532</td>\n",
       "      <td>38.324952</td>\n",
       "      <td>0.542874</td>\n",
       "    </tr>\n",
       "    <tr>\n",
       "      <th>16</th>\n",
       "      <td>V1 V3 V4 V5 V6 V7 V8 V9 V10 V11 V12 V13</td>\n",
       "      <td>0.756220</td>\n",
       "      <td>0.167536</td>\n",
       "      <td>3.506467</td>\n",
       "      <td>30.059560</td>\n",
       "      <td>0.641461</td>\n",
       "    </tr>\n",
       "    <tr>\n",
       "      <th>0</th>\n",
       "      <td>Todas</td>\n",
       "      <td>0.762089</td>\n",
       "      <td>0.170330</td>\n",
       "      <td>3.575717</td>\n",
       "      <td>29.953665</td>\n",
       "      <td>0.642724</td>\n",
       "    </tr>\n",
       "  </tbody>\n",
       "</table>\n",
       "</div>"
      ],
      "text/plain": [
       "                                    features     score  erro relativo  \\\n",
       "2                                         V2  0.033733       0.364169   \n",
       "4                                         V4  0.071928       0.324299   \n",
       "6                                         V6  0.112677       0.308958   \n",
       "1                                         V1  0.134206       0.313026   \n",
       "10                                       V10  0.148274       0.296084   \n",
       "7                                         V7  0.151131       0.305616   \n",
       "11                                       V11  0.160729       0.304580   \n",
       "9                                         V9  0.191412       0.300425   \n",
       "8                                         V8  0.238282       0.299234   \n",
       "5                                         V5  0.240768       0.293659   \n",
       "12                                       V12  0.281026       0.315156   \n",
       "3                                         V3  0.525085       0.262449   \n",
       "13                                       V13  0.563667       0.224066   \n",
       "17                               V2 V3 V4 V9  0.601285       0.235100   \n",
       "14                                V3 V12 V13  0.710845       0.196270   \n",
       "15                          V3 V12 V13 V5 V8  0.713237       0.193855   \n",
       "16   V1 V3 V4 V5 V6 V7 V8 V9 V10 V11 V12 V13  0.756220       0.167536   \n",
       "0                                      Todas  0.762089       0.170330   \n",
       "\n",
       "    erro absoluto  erro quadratico  variancia  \n",
       "2        6.964869        83.113636   0.008651  \n",
       "4        6.494733        82.243887   0.019025  \n",
       "6        6.238957        75.423558   0.100375  \n",
       "1        6.191592        74.915748   0.106432  \n",
       "10       6.126351        74.370931   0.112931  \n",
       "7        6.259317        71.954114   0.141758  \n",
       "11       6.425360        77.189866   0.079307  \n",
       "9        6.184804        71.887984   0.142546  \n",
       "8        5.951999        65.953953   0.213325  \n",
       "5        6.194581        73.014689   0.129107  \n",
       "12       6.173393        70.394718   0.160357  \n",
       "3        4.698463        57.967467   0.308585  \n",
       "13       4.905649        45.249584   0.460279  \n",
       "17       4.395587        49.847208   0.405441  \n",
       "14       3.974092        38.267666   0.543557  \n",
       "15       3.964532        38.324952   0.542874  \n",
       "16       3.506467        30.059560   0.641461  \n",
       "0        3.575717        29.953665   0.642724  "
      ]
     },
     "execution_count": 23,
     "metadata": {},
     "output_type": "execute_result"
    }
   ],
   "source": [
    "result = predict(['V2', 'V3', 'V4', 'V9'])\n",
    "comparativo = comparativo.append(result, ignore_index=True)\n",
    "comparativo.sort_values(by=['score'])"
   ]
  },
  {
   "cell_type": "markdown",
   "metadata": {
    "collapsed": true
   },
   "source": [
    "Foi pior do que as outras combinações mas ainda é melhor do que as features isoladas"
   ]
  },
  {
   "cell_type": "markdown",
   "metadata": {},
   "source": [
    "# Conclusões"
   ]
  },
  {
   "cell_type": "code",
   "execution_count": 24,
   "metadata": {},
   "outputs": [
    {
     "data": {
      "text/html": [
       "<div>\n",
       "<style scoped>\n",
       "    .dataframe tbody tr th:only-of-type {\n",
       "        vertical-align: middle;\n",
       "    }\n",
       "\n",
       "    .dataframe tbody tr th {\n",
       "        vertical-align: top;\n",
       "    }\n",
       "\n",
       "    .dataframe thead th {\n",
       "        text-align: right;\n",
       "    }\n",
       "</style>\n",
       "<table border=\"1\" class=\"dataframe\">\n",
       "  <thead>\n",
       "    <tr style=\"text-align: right;\">\n",
       "      <th></th>\n",
       "      <th>features</th>\n",
       "      <th>score</th>\n",
       "      <th>erro relativo</th>\n",
       "      <th>erro absoluto</th>\n",
       "      <th>erro quadratico</th>\n",
       "      <th>variancia</th>\n",
       "    </tr>\n",
       "  </thead>\n",
       "  <tbody>\n",
       "    <tr>\n",
       "      <th>2</th>\n",
       "      <td>V2</td>\n",
       "      <td>0.033733</td>\n",
       "      <td>0.364169</td>\n",
       "      <td>6.964869</td>\n",
       "      <td>83.113636</td>\n",
       "      <td>0.008651</td>\n",
       "    </tr>\n",
       "    <tr>\n",
       "      <th>4</th>\n",
       "      <td>V4</td>\n",
       "      <td>0.071928</td>\n",
       "      <td>0.324299</td>\n",
       "      <td>6.494733</td>\n",
       "      <td>82.243887</td>\n",
       "      <td>0.019025</td>\n",
       "    </tr>\n",
       "    <tr>\n",
       "      <th>6</th>\n",
       "      <td>V6</td>\n",
       "      <td>0.112677</td>\n",
       "      <td>0.308958</td>\n",
       "      <td>6.238957</td>\n",
       "      <td>75.423558</td>\n",
       "      <td>0.100375</td>\n",
       "    </tr>\n",
       "    <tr>\n",
       "      <th>1</th>\n",
       "      <td>V1</td>\n",
       "      <td>0.134206</td>\n",
       "      <td>0.313026</td>\n",
       "      <td>6.191592</td>\n",
       "      <td>74.915748</td>\n",
       "      <td>0.106432</td>\n",
       "    </tr>\n",
       "    <tr>\n",
       "      <th>10</th>\n",
       "      <td>V10</td>\n",
       "      <td>0.148274</td>\n",
       "      <td>0.296084</td>\n",
       "      <td>6.126351</td>\n",
       "      <td>74.370931</td>\n",
       "      <td>0.112931</td>\n",
       "    </tr>\n",
       "    <tr>\n",
       "      <th>7</th>\n",
       "      <td>V7</td>\n",
       "      <td>0.151131</td>\n",
       "      <td>0.305616</td>\n",
       "      <td>6.259317</td>\n",
       "      <td>71.954114</td>\n",
       "      <td>0.141758</td>\n",
       "    </tr>\n",
       "    <tr>\n",
       "      <th>11</th>\n",
       "      <td>V11</td>\n",
       "      <td>0.160729</td>\n",
       "      <td>0.304580</td>\n",
       "      <td>6.425360</td>\n",
       "      <td>77.189866</td>\n",
       "      <td>0.079307</td>\n",
       "    </tr>\n",
       "    <tr>\n",
       "      <th>9</th>\n",
       "      <td>V9</td>\n",
       "      <td>0.191412</td>\n",
       "      <td>0.300425</td>\n",
       "      <td>6.184804</td>\n",
       "      <td>71.887984</td>\n",
       "      <td>0.142546</td>\n",
       "    </tr>\n",
       "    <tr>\n",
       "      <th>8</th>\n",
       "      <td>V8</td>\n",
       "      <td>0.238282</td>\n",
       "      <td>0.299234</td>\n",
       "      <td>5.951999</td>\n",
       "      <td>65.953953</td>\n",
       "      <td>0.213325</td>\n",
       "    </tr>\n",
       "    <tr>\n",
       "      <th>5</th>\n",
       "      <td>V5</td>\n",
       "      <td>0.240768</td>\n",
       "      <td>0.293659</td>\n",
       "      <td>6.194581</td>\n",
       "      <td>73.014689</td>\n",
       "      <td>0.129107</td>\n",
       "    </tr>\n",
       "    <tr>\n",
       "      <th>12</th>\n",
       "      <td>V12</td>\n",
       "      <td>0.281026</td>\n",
       "      <td>0.315156</td>\n",
       "      <td>6.173393</td>\n",
       "      <td>70.394718</td>\n",
       "      <td>0.160357</td>\n",
       "    </tr>\n",
       "    <tr>\n",
       "      <th>3</th>\n",
       "      <td>V3</td>\n",
       "      <td>0.525085</td>\n",
       "      <td>0.262449</td>\n",
       "      <td>4.698463</td>\n",
       "      <td>57.967467</td>\n",
       "      <td>0.308585</td>\n",
       "    </tr>\n",
       "    <tr>\n",
       "      <th>13</th>\n",
       "      <td>V13</td>\n",
       "      <td>0.563667</td>\n",
       "      <td>0.224066</td>\n",
       "      <td>4.905649</td>\n",
       "      <td>45.249584</td>\n",
       "      <td>0.460279</td>\n",
       "    </tr>\n",
       "    <tr>\n",
       "      <th>17</th>\n",
       "      <td>V2 V3 V4 V9</td>\n",
       "      <td>0.601285</td>\n",
       "      <td>0.235100</td>\n",
       "      <td>4.395587</td>\n",
       "      <td>49.847208</td>\n",
       "      <td>0.405441</td>\n",
       "    </tr>\n",
       "    <tr>\n",
       "      <th>14</th>\n",
       "      <td>V3 V12 V13</td>\n",
       "      <td>0.710845</td>\n",
       "      <td>0.196270</td>\n",
       "      <td>3.974092</td>\n",
       "      <td>38.267666</td>\n",
       "      <td>0.543557</td>\n",
       "    </tr>\n",
       "    <tr>\n",
       "      <th>15</th>\n",
       "      <td>V3 V12 V13 V5 V8</td>\n",
       "      <td>0.713237</td>\n",
       "      <td>0.193855</td>\n",
       "      <td>3.964532</td>\n",
       "      <td>38.324952</td>\n",
       "      <td>0.542874</td>\n",
       "    </tr>\n",
       "    <tr>\n",
       "      <th>16</th>\n",
       "      <td>V1 V3 V4 V5 V6 V7 V8 V9 V10 V11 V12 V13</td>\n",
       "      <td>0.756220</td>\n",
       "      <td>0.167536</td>\n",
       "      <td>3.506467</td>\n",
       "      <td>30.059560</td>\n",
       "      <td>0.641461</td>\n",
       "    </tr>\n",
       "    <tr>\n",
       "      <th>0</th>\n",
       "      <td>Todas</td>\n",
       "      <td>0.762089</td>\n",
       "      <td>0.170330</td>\n",
       "      <td>3.575717</td>\n",
       "      <td>29.953665</td>\n",
       "      <td>0.642724</td>\n",
       "    </tr>\n",
       "  </tbody>\n",
       "</table>\n",
       "</div>"
      ],
      "text/plain": [
       "                                    features     score  erro relativo  \\\n",
       "2                                         V2  0.033733       0.364169   \n",
       "4                                         V4  0.071928       0.324299   \n",
       "6                                         V6  0.112677       0.308958   \n",
       "1                                         V1  0.134206       0.313026   \n",
       "10                                       V10  0.148274       0.296084   \n",
       "7                                         V7  0.151131       0.305616   \n",
       "11                                       V11  0.160729       0.304580   \n",
       "9                                         V9  0.191412       0.300425   \n",
       "8                                         V8  0.238282       0.299234   \n",
       "5                                         V5  0.240768       0.293659   \n",
       "12                                       V12  0.281026       0.315156   \n",
       "3                                         V3  0.525085       0.262449   \n",
       "13                                       V13  0.563667       0.224066   \n",
       "17                               V2 V3 V4 V9  0.601285       0.235100   \n",
       "14                                V3 V12 V13  0.710845       0.196270   \n",
       "15                          V3 V12 V13 V5 V8  0.713237       0.193855   \n",
       "16   V1 V3 V4 V5 V6 V7 V8 V9 V10 V11 V12 V13  0.756220       0.167536   \n",
       "0                                      Todas  0.762089       0.170330   \n",
       "\n",
       "    erro absoluto  erro quadratico  variancia  \n",
       "2        6.964869        83.113636   0.008651  \n",
       "4        6.494733        82.243887   0.019025  \n",
       "6        6.238957        75.423558   0.100375  \n",
       "1        6.191592        74.915748   0.106432  \n",
       "10       6.126351        74.370931   0.112931  \n",
       "7        6.259317        71.954114   0.141758  \n",
       "11       6.425360        77.189866   0.079307  \n",
       "9        6.184804        71.887984   0.142546  \n",
       "8        5.951999        65.953953   0.213325  \n",
       "5        6.194581        73.014689   0.129107  \n",
       "12       6.173393        70.394718   0.160357  \n",
       "3        4.698463        57.967467   0.308585  \n",
       "13       4.905649        45.249584   0.460279  \n",
       "17       4.395587        49.847208   0.405441  \n",
       "14       3.974092        38.267666   0.543557  \n",
       "15       3.964532        38.324952   0.542874  \n",
       "16       3.506467        30.059560   0.641461  \n",
       "0        3.575717        29.953665   0.642724  "
      ]
     },
     "execution_count": 24,
     "metadata": {},
     "output_type": "execute_result"
    }
   ],
   "source": [
    "comparativo.sort_values(by=['score'])"
   ]
  },
  {
   "cell_type": "markdown",
   "metadata": {},
   "source": [
    "Nenhuma feature sozinha tem o score melhor do que combinações.\n",
    "O algoritmo foi capaz de encontrar uma combinação de features melhor do que as que conseguimos escolher manualmente a partir da nossa analise dos dados. \n",
    "Portanto, o score com todas as features foi o melhor o encontrado porém, se o objetivo é reduzir o erro relativo médio, verificamos que retirar o V2 é uma boa escolha."
   ]
  },
  {
   "cell_type": "code",
   "execution_count": null,
   "metadata": {},
   "outputs": [],
   "source": []
  }
 ],
 "metadata": {
  "kernelspec": {
   "display_name": "Python 3",
   "language": "python",
   "name": "python3"
  },
  "language_info": {
   "codemirror_mode": {
    "name": "ipython",
    "version": 3
   },
   "file_extension": ".py",
   "mimetype": "text/x-python",
   "name": "python",
   "nbconvert_exporter": "python",
   "pygments_lexer": "ipython3",
   "version": "3.7.1"
  }
 },
 "nbformat": 4,
 "nbformat_minor": 2
}
